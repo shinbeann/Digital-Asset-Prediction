{
 "cells": [
  {
   "cell_type": "code",
   "execution_count": 3,
   "metadata": {},
   "outputs": [],
   "source": [
    "from dotenv import load_dotenv"
   ]
  },
  {
   "cell_type": "code",
   "execution_count": 4,
   "metadata": {},
   "outputs": [
    {
     "data": {
      "text/plain": [
       "True"
      ]
     },
     "execution_count": 4,
     "metadata": {},
     "output_type": "execute_result"
    }
   ],
   "source": [
    "load_dotenv()"
   ]
  },
  {
   "cell_type": "code",
   "execution_count": 5,
   "metadata": {},
   "outputs": [],
   "source": [
    "import os\n",
    "\n",
    "Binance_API_key = os.getenv(\"KEY_1\")\n",
    "\n",
    "Binance_SECRET_key = os.getenv(\"KEY_2\")\n"
   ]
  },
  {
   "cell_type": "code",
   "execution_count": 6,
   "metadata": {},
   "outputs": [
    {
     "data": {
      "text/plain": [
       "'Dh3FUV6VvtZDIqp8gjQrSp9spOdl6xIk6Bd0mt7Ljn0gYTy2m4PNmTxAMuUEYkgj'"
      ]
     },
     "execution_count": 6,
     "metadata": {},
     "output_type": "execute_result"
    }
   ],
   "source": [
    "Binance_API_key"
   ]
  },
  {
   "cell_type": "code",
   "execution_count": 10,
   "metadata": {},
   "outputs": [
    {
     "name": "stdout",
     "output_type": "stream",
     "text": [
      "Fetching top 100 cryptocurrency assets by market cap...\n",
      "Found 100 assets\n",
      "[1/100] Fetching daily data for bitcoin...\n",
      "✓ Successfully fetched 366 days of data for bitcoin\n",
      "Waiting 6 seconds to avoid API rate limits...\n",
      "[2/100] Fetching daily data for ethereum...\n",
      "✓ Successfully fetched 366 days of data for ethereum\n",
      "Waiting 3 seconds to avoid API rate limits...\n",
      "[3/100] Fetching daily data for tether...\n",
      "✓ Successfully fetched 366 days of data for tether\n",
      "Waiting 3 seconds to avoid API rate limits...\n",
      "[4/100] Fetching daily data for ripple...\n",
      "✓ Successfully fetched 366 days of data for ripple\n",
      "Waiting 3 seconds to avoid API rate limits...\n",
      "[5/100] Fetching daily data for binancecoin...\n",
      "✓ Successfully fetched 366 days of data for binancecoin\n",
      "Waiting 3 seconds to avoid API rate limits...\n",
      "[6/100] Fetching daily data for solana...\n",
      "✓ Successfully fetched 366 days of data for solana\n",
      "Waiting 3 seconds to avoid API rate limits...\n",
      "[7/100] Fetching daily data for usd-coin...\n",
      "Error fetching usd-coin: 429\n",
      "Rate limit exceeded. Waiting longer...\n"
     ]
    },
    {
     "ename": "KeyboardInterrupt",
     "evalue": "",
     "output_type": "error",
     "traceback": [
      "\u001b[0;31m---------------------------------------------------------------------------\u001b[0m",
      "\u001b[0;31mKeyboardInterrupt\u001b[0m                         Traceback (most recent call last)",
      "Cell \u001b[0;32mIn[10], line 87\u001b[0m\n\u001b[1;32m     85\u001b[0m \u001b[38;5;28;01mtry\u001b[39;00m:\n\u001b[1;32m     86\u001b[0m     \u001b[38;5;28mprint\u001b[39m(\u001b[38;5;124mf\u001b[39m\u001b[38;5;124m\"\u001b[39m\u001b[38;5;124m[\u001b[39m\u001b[38;5;132;01m{\u001b[39;00mi\u001b[38;5;241m+\u001b[39m\u001b[38;5;241m1\u001b[39m\u001b[38;5;132;01m}\u001b[39;00m\u001b[38;5;124m/\u001b[39m\u001b[38;5;132;01m{\u001b[39;00m\u001b[38;5;28mlen\u001b[39m(top_assets)\u001b[38;5;132;01m}\u001b[39;00m\u001b[38;5;124m] Fetching daily data for \u001b[39m\u001b[38;5;132;01m{\u001b[39;00masset\u001b[38;5;132;01m}\u001b[39;00m\u001b[38;5;124m...\u001b[39m\u001b[38;5;124m\"\u001b[39m)\n\u001b[0;32m---> 87\u001b[0m     df \u001b[38;5;241m=\u001b[39m \u001b[43mget_daily_market_data\u001b[49m\u001b[43m(\u001b[49m\u001b[43masset\u001b[49m\u001b[43m)\u001b[49m\n\u001b[1;32m     88\u001b[0m     \u001b[38;5;28;01mif\u001b[39;00m df \u001b[38;5;129;01mis\u001b[39;00m \u001b[38;5;129;01mnot\u001b[39;00m \u001b[38;5;28;01mNone\u001b[39;00m:\n\u001b[1;32m     89\u001b[0m         all_data[asset] \u001b[38;5;241m=\u001b[39m df\n",
      "Cell \u001b[0;32mIn[10], line 35\u001b[0m, in \u001b[0;36mget_daily_market_data\u001b[0;34m(asset_id, vs_currency, days)\u001b[0m\n\u001b[1;32m     33\u001b[0m     \u001b[38;5;28;01mif\u001b[39;00m response\u001b[38;5;241m.\u001b[39mstatus_code \u001b[38;5;241m==\u001b[39m \u001b[38;5;241m429\u001b[39m:\n\u001b[1;32m     34\u001b[0m         \u001b[38;5;28mprint\u001b[39m(\u001b[38;5;124m\"\u001b[39m\u001b[38;5;124mRate limit exceeded. Waiting longer...\u001b[39m\u001b[38;5;124m\"\u001b[39m)\n\u001b[0;32m---> 35\u001b[0m         \u001b[43mtime\u001b[49m\u001b[38;5;241;43m.\u001b[39;49m\u001b[43msleep\u001b[49m\u001b[43m(\u001b[49m\u001b[38;5;241;43m60\u001b[39;49m\u001b[43m)\u001b[49m  \u001b[38;5;66;03m# Wait longer if rate limited\u001b[39;00m\n\u001b[1;32m     36\u001b[0m     \u001b[38;5;28;01mreturn\u001b[39;00m \u001b[38;5;28;01mNone\u001b[39;00m\n\u001b[1;32m     38\u001b[0m data \u001b[38;5;241m=\u001b[39m response\u001b[38;5;241m.\u001b[39mjson()\n",
      "\u001b[0;31mKeyboardInterrupt\u001b[0m: "
     ]
    }
   ],
   "source": []
  }
 ],
 "metadata": {
  "kernelspec": {
   "display_name": "aishwaryaiyer-JArDMLs9",
   "language": "python",
   "name": "python3"
  },
  "language_info": {
   "codemirror_mode": {
    "name": "ipython",
    "version": 3
   },
   "file_extension": ".py",
   "mimetype": "text/x-python",
   "name": "python",
   "nbconvert_exporter": "python",
   "pygments_lexer": "ipython3",
   "version": "3.11.5"
  }
 },
 "nbformat": 4,
 "nbformat_minor": 2
}
