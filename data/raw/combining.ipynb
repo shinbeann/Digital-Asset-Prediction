{
 "cells": [
  {
   "cell_type": "code",
   "execution_count": 77,
   "metadata": {},
   "outputs": [],
   "source": [
    "import pandas as pd"
   ]
  },
  {
   "cell_type": "code",
   "execution_count": 78,
   "metadata": {},
   "outputs": [],
   "source": [
    "df_crypto = pd.read_csv('binance_crypto_data_20250327.csv')\n",
    "df_OHLC = pd.read_csv('binance_ohlc_data_20250327.csv')\n"
   ]
  },
  {
   "cell_type": "code",
   "execution_count": 79,
   "metadata": {},
   "outputs": [],
   "source": [
    "combined_df = pd.merge(df_OHLC, df_crypto, left_on=['timestamp', 'symbol'], right_on=['date', 'asset'])"
   ]
  },
  {
   "cell_type": "code",
   "execution_count": 80,
   "metadata": {},
   "outputs": [],
   "source": [
    "combined_df = combined_df.drop('date', axis=1)"
   ]
  },
  {
   "cell_type": "code",
   "execution_count": 81,
   "metadata": {},
   "outputs": [],
   "source": [
    "df_gold = pd.read_csv('Gold_price_averages_monthly.csv')"
   ]
  },
  {
   "cell_type": "code",
   "execution_count": 82,
   "metadata": {},
   "outputs": [
    {
     "name": "stderr",
     "output_type": "stream",
     "text": [
      "/var/folders/vr/qwxtvrr17fn2qzlm0z4rq4br0000gn/T/ipykernel_98313/2657357993.py:1: UserWarning: Could not infer format, so each element will be parsed individually, falling back to `dateutil`. To ensure parsing is consistent and as-expected, please specify a format.\n",
      "  df_gold['date'] = pd.to_datetime(df_gold['date'])\n"
     ]
    }
   ],
   "source": [
    "\n",
    "\n",
    "df_gold['date'] = pd.to_datetime(df_gold['date'])\n",
    "df_gold = df_gold[df_gold['date'] >= pd.to_datetime('2021-12-31')]"
   ]
  },
  {
   "cell_type": "code",
   "execution_count": 83,
   "metadata": {},
   "outputs": [
    {
     "data": {
      "text/html": [
       "<div>\n",
       "<style scoped>\n",
       "    .dataframe tbody tr th:only-of-type {\n",
       "        vertical-align: middle;\n",
       "    }\n",
       "\n",
       "    .dataframe tbody tr th {\n",
       "        vertical-align: top;\n",
       "    }\n",
       "\n",
       "    .dataframe thead th {\n",
       "        text-align: right;\n",
       "    }\n",
       "</style>\n",
       "<table border=\"1\" class=\"dataframe\">\n",
       "  <thead>\n",
       "    <tr style=\"text-align: right;\">\n",
       "      <th></th>\n",
       "      <th>date</th>\n",
       "      <th>USD</th>\n",
       "    </tr>\n",
       "  </thead>\n",
       "  <tbody>\n",
       "    <tr>\n",
       "      <th>527</th>\n",
       "      <td>2021-12-31</td>\n",
       "      <td>1,786.7</td>\n",
       "    </tr>\n",
       "    <tr>\n",
       "      <th>528</th>\n",
       "      <td>2022-01-31</td>\n",
       "      <td>1,816.8</td>\n",
       "    </tr>\n",
       "    <tr>\n",
       "      <th>529</th>\n",
       "      <td>2022-02-28</td>\n",
       "      <td>1,856.3</td>\n",
       "    </tr>\n",
       "    <tr>\n",
       "      <th>530</th>\n",
       "      <td>2022-03-31</td>\n",
       "      <td>1,947.8</td>\n",
       "    </tr>\n",
       "    <tr>\n",
       "      <th>531</th>\n",
       "      <td>2022-04-29</td>\n",
       "      <td>1,933.9</td>\n",
       "    </tr>\n",
       "  </tbody>\n",
       "</table>\n",
       "</div>"
      ],
      "text/plain": [
       "          date      USD\n",
       "527 2021-12-31  1,786.7\n",
       "528 2022-01-31  1,816.8\n",
       "529 2022-02-28  1,856.3\n",
       "530 2022-03-31  1,947.8\n",
       "531 2022-04-29  1,933.9"
      ]
     },
     "execution_count": 83,
     "metadata": {},
     "output_type": "execute_result"
    }
   ],
   "source": [
    "df_gold = df_gold[['date', 'USD']]\n",
    "df_gold.head()"
   ]
  },
  {
   "cell_type": "code",
   "execution_count": 84,
   "metadata": {},
   "outputs": [
    {
     "name": "stdout",
     "output_type": "stream",
     "text": [
      "           date      USD\n",
      "0    2021-12-31  1,786.7\n",
      "1    2022-01-01  1,786.7\n",
      "2    2022-01-02  1,786.7\n",
      "3    2022-01-03  1,786.7\n",
      "4    2022-01-04  1,786.7\n",
      "...         ...      ...\n",
      "1175 2025-03-20  2,894.7\n",
      "1176 2025-03-21  2,894.7\n",
      "1177 2025-03-22  2,894.7\n",
      "1178 2025-03-23  2,894.7\n",
      "1179 2025-03-24  2,894.7\n",
      "\n",
      "[1180 rows x 2 columns]\n"
     ]
    }
   ],
   "source": [
    "df_gold[\"date\"] = pd.to_datetime(df_gold[\"date\"])\n",
    "df_gold.set_index(\"date\", inplace=True)\n",
    "\n",
    "# Create a daily date range covering the full period up to March 24, 2025\n",
    "date_range = pd.date_range(start=df_gold.index.min(), end=\"2025-03-24\", freq='D')\n",
    "\n",
    "df_gold_daily = df_gold.reindex(date_range, method='ffill')\n",
    "df_gold_daily.reset_index(inplace=True)\n",
    "df_gold_daily.rename(columns={\"index\": \"date\"}, inplace=True)\n",
    "\n",
    "print(df_gold_daily)"
   ]
  },
  {
   "cell_type": "code",
   "execution_count": 85,
   "metadata": {},
   "outputs": [
    {
     "name": "stdout",
     "output_type": "stream",
     "text": [
      "           date USD_Price_Gold_Monthly\n",
      "0    2021-12-31                1,786.7\n",
      "1    2022-01-01                1,786.7\n",
      "2    2022-01-02                1,786.7\n",
      "3    2022-01-03                1,786.7\n",
      "4    2022-01-04                1,786.7\n",
      "...         ...                    ...\n",
      "1175 2025-03-20                2,894.7\n",
      "1176 2025-03-21                2,894.7\n",
      "1177 2025-03-22                2,894.7\n",
      "1178 2025-03-23                2,894.7\n",
      "1179 2025-03-24                2,894.7\n",
      "\n",
      "[1180 rows x 2 columns]\n"
     ]
    }
   ],
   "source": [
    "df_gold_daily.rename(columns={'USD': 'USD_Price_Gold_Monthly'}, inplace=True)\n",
    "print(df_gold_daily)"
   ]
  },
  {
   "cell_type": "code",
   "execution_count": 86,
   "metadata": {},
   "outputs": [],
   "source": [
    "combined_df['timestamp'] = pd.to_datetime(combined_df['timestamp'])\n",
    "combined_df = combined_df.merge(df_gold_daily, left_on='timestamp', right_on='date', how='left')"
   ]
  },
  {
   "cell_type": "code",
   "execution_count": 87,
   "metadata": {},
   "outputs": [
    {
     "name": "stdout",
     "output_type": "stream",
     "text": [
      "           symbol  timestamp      open      high       low     close  \\\n",
      "0        BTC/USDT 2022-03-24  42882.76  44220.89  42560.46  43991.46   \n",
      "1        BTC/USDT 2022-03-25  43991.46  45094.14  43579.00  44313.16   \n",
      "2        BTC/USDT 2022-03-26  44313.16  44792.99  44071.97  44511.27   \n",
      "3        BTC/USDT 2022-03-27  44511.27  46999.00  44421.46  46827.76   \n",
      "4        BTC/USDT 2022-03-28  46827.76  48189.84  46663.56  47122.21   \n",
      "...           ...        ...       ...       ...       ...       ...   \n",
      "108885  PAXG/USDT 2025-03-20   3065.00   3072.00   3047.00   3057.00   \n",
      "108886  PAXG/USDT 2025-03-21   3059.00   3100.00   3031.00   3039.00   \n",
      "108887  PAXG/USDT 2025-03-22   3039.00   3051.00   3039.00   3050.00   \n",
      "108888  PAXG/USDT 2025-03-23   3051.00   3062.00   3042.00   3054.00   \n",
      "108889  PAXG/USDT 2025-03-24   3054.00   3058.00   3002.00   3019.00   \n",
      "\n",
      "           volume_x     price     volume_y    market_cap  daily_return  \\\n",
      "0       56195.12374  43991.46  56195.12374  2.472106e+09           NaN   \n",
      "1       54614.43648  44313.16  54614.43648  2.420138e+09      0.007313   \n",
      "2       23041.61741  44511.27  23041.61741  1.025612e+09      0.004471   \n",
      "3       41874.91071  46827.76  41874.91071  1.960908e+09      0.052043   \n",
      "4       58949.26140  47122.21  58949.26140  2.777819e+09      0.006288   \n",
      "...             ...       ...          ...           ...           ...   \n",
      "108885   1422.29570   3057.00   1422.29570  4.347958e+06     -0.002285   \n",
      "108886   4140.43400   3039.00   4140.43400  1.258278e+07     -0.005888   \n",
      "108887    738.62490   3050.00    738.62490  2.252806e+06      0.003620   \n",
      "108888   1105.59000   3054.00   1105.59000  3.376472e+06      0.001311   \n",
      "108889   2388.94690   3019.00   2388.94690  7.212231e+06     -0.011460   \n",
      "\n",
      "            asset       date  USD_Price_Gold_Monthly  \n",
      "0        BTC/USDT 2022-03-24                  1856.3  \n",
      "1        BTC/USDT 2022-03-25                  1856.3  \n",
      "2        BTC/USDT 2022-03-26                  1856.3  \n",
      "3        BTC/USDT 2022-03-27                  1856.3  \n",
      "4        BTC/USDT 2022-03-28                  1856.3  \n",
      "...           ...        ...                     ...  \n",
      "108885  PAXG/USDT 2025-03-20                  2894.7  \n",
      "108886  PAXG/USDT 2025-03-21                  2894.7  \n",
      "108887  PAXG/USDT 2025-03-22                  2894.7  \n",
      "108888  PAXG/USDT 2025-03-23                  2894.7  \n",
      "108889  PAXG/USDT 2025-03-24                  2894.7  \n",
      "\n",
      "[108890 rows x 14 columns]\n"
     ]
    }
   ],
   "source": [
    "combined_df['USD_Price_Gold_Monthly'] = combined_df['USD_Price_Gold_Monthly'].str.replace(',', '').astype(float)\n",
    "print(combined_df)"
   ]
  },
  {
   "cell_type": "code",
   "execution_count": 89,
   "metadata": {},
   "outputs": [],
   "source": [
    "combined_df = combined_df.drop('date', axis=1)"
   ]
  },
  {
   "cell_type": "code",
   "execution_count": 90,
   "metadata": {},
   "outputs": [],
   "source": [
    "combined_df.to_csv('Combined_crypto_OHLC_gold.csv', index=False)"
   ]
  },
  {
   "cell_type": "code",
   "execution_count": null,
   "metadata": {},
   "outputs": [],
   "source": []
  }
 ],
 "metadata": {
  "kernelspec": {
   "display_name": "Python 3",
   "language": "python",
   "name": "python3"
  },
  "language_info": {
   "codemirror_mode": {
    "name": "ipython",
    "version": 3
   },
   "file_extension": ".py",
   "mimetype": "text/x-python",
   "name": "python",
   "nbconvert_exporter": "python",
   "pygments_lexer": "ipython3",
   "version": "3.11.5"
  }
 },
 "nbformat": 4,
 "nbformat_minor": 2
}
