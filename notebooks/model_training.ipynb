{
 "cells": [
  {
   "cell_type": "markdown",
   "id": "2a41831d",
   "metadata": {},
   "source": [
    "# Model Training"
   ]
  },
  {
   "cell_type": "markdown",
   "id": "78f6dcab",
   "metadata": {},
   "source": [
    "## 0. Setup"
   ]
  },
  {
   "cell_type": "code",
   "execution_count": null,
   "id": "5705ed5d",
   "metadata": {},
   "outputs": [],
   "source": [
    "# Automatic reloading\n",
    "%load_ext autoreload\n",
    "%autoreload 2"
   ]
  },
  {
   "cell_type": "code",
   "execution_count": null,
   "id": "718218ef",
   "metadata": {},
   "outputs": [],
   "source": [
    "####################\n",
    "# Required Modules #\n",
    "####################\n",
    "\n",
    "# Generic/Built-in\n",
    "import random\n",
    "import sys \n",
    "import os\n",
    "\n",
    "# Libs\n",
    "import numpy as np\n",
    "import torch\n",
    "from torch.utils.data import DataLoader, random_split\n",
    "import torch.optim as optim"
   ]
  },
  {
   "cell_type": "code",
   "execution_count": null,
   "id": "01a9c742",
   "metadata": {},
   "outputs": [],
   "source": [
    "# Get the project directory \n",
    "current_dir = os.path.abspath('') # Current '\\notebooks' directory\n",
    "project_dir = os.path.abspath(os.path.join(current_dir, '..')) # Move up one level to project root directory\n",
    "\n",
    "# Add the project directory to sys.path\n",
    "sys.path.append(project_dir)\n",
    "\n",
    "# Move up to project directory\n",
    "os.chdir(project_dir)\n",
    "os.getcwd()"
   ]
  },
  {
   "cell_type": "code",
   "execution_count": null,
   "id": "738ac540",
   "metadata": {},
   "outputs": [],
   "source": [
    "# Import custom modules\n",
    "from src.dataset import *\n",
    "from src.models import *\n",
    "from src.train_eval import *"
   ]
  },
  {
   "cell_type": "code",
   "execution_count": null,
   "id": "1deb6be2",
   "metadata": {},
   "outputs": [],
   "source": [
    "# Seeding\n",
    "SEED = 42\n",
    "\n",
    "# To be safe, seed all modules for full reproducibility\n",
    "torch.manual_seed(SEED)\n",
    "torch.cuda.manual_seed_all(SEED)  # If using CUDA\n",
    "np.random.seed(SEED)\n",
    "random.seed(SEED)"
   ]
  },
  {
   "cell_type": "code",
   "execution_count": null,
   "id": "67d9200c",
   "metadata": {},
   "outputs": [],
   "source": [
    "# Device\n",
    "device = torch.device(\"cuda\" if torch.cuda.is_available() else \"cpu\")\n",
    "print(device)"
   ]
  },
  {
   "cell_type": "markdown",
   "id": "bf58427a",
   "metadata": {},
   "source": [
    "## 1. Prepare Dataset"
   ]
  },
  {
   "cell_type": "code",
   "execution_count": null,
   "id": "867aaf9e",
   "metadata": {},
   "outputs": [],
   "source": [
    "# File paths\n",
    "TRAIN_PATH = \"data/processed/train_set.csv\"\n",
    "VAL_PATH = \"data/processed/val_set.csv\"\n",
    "TEST_PATH = \"data/processed/test_set.csv\"\n",
    "\n",
    "# Hyperparameters\n",
    "INPUT_SEQUENCE_LENGTH = 14 # Number of timesteps (days) in input sequence\n",
    "DATASET_STRIDE = 1\n",
    "BATCH_SIZE = 256"
   ]
  },
  {
   "cell_type": "code",
   "execution_count": null,
   "id": "d5f9f142",
   "metadata": {},
   "outputs": [],
   "source": [
    "# Create Dataset objects\n",
    "train_dataset = CryptoDataset(\n",
    "    csv_file=TRAIN_PATH,\n",
    "    seq_length=INPUT_SEQUENCE_LENGTH,\n",
    "    stride=DATASET_STRIDE\n",
    ")\n",
    "val_dataset = CryptoDataset(\n",
    "    csv_file=VAL_PATH,\n",
    "    seq_length=INPUT_SEQUENCE_LENGTH,\n",
    "    stride=DATASET_STRIDE\n",
    ")\n",
    "test_dataset = CryptoDataset(\n",
    "    csv_file=TEST_PATH,\n",
    "    seq_length=INPUT_SEQUENCE_LENGTH,\n",
    "    stride=DATASET_STRIDE\n",
    ")\n",
    "\n",
    "print(\"Total number of samples (sequences)\")\n",
    "print(\"Training:\", len(train_dataset))\n",
    "print(\"Validation:\", len(val_dataset))\n",
    "print(\"Test:\", len(test_dataset))"
   ]
  },
  {
   "cell_type": "code",
   "execution_count": null,
   "id": "2dbd2990",
   "metadata": {},
   "outputs": [],
   "source": [
    "# Create respective data loaders\n",
    "train_loader = DataLoader(train_dataset, batch_size=BATCH_SIZE, shuffle=True)\n",
    "val_loader = DataLoader(val_dataset, batch_size=BATCH_SIZE, shuffle=True)\n",
    "test_loader = DataLoader(test_dataset, batch_size=BATCH_SIZE, shuffle=True)"
   ]
  },
  {
   "cell_type": "markdown",
   "id": "dc749d68",
   "metadata": {},
   "source": [
    "## 2. Training\n",
    "`train_model` will save model parameters to `saved_models` directory (by default)."
   ]
  },
  {
   "cell_type": "code",
   "execution_count": null,
   "id": "12bbb753",
   "metadata": {},
   "outputs": [],
   "source": [
    "# Hyperparameters\n",
    "LEARNING_RATE = 0.001 # standard for Adam\n",
    "NUM_EPOCHS = 20\n",
    "SAVE_INTERVAL = 5"
   ]
  },
  {
   "cell_type": "code",
   "execution_count": null,
   "id": "00d8fb43",
   "metadata": {},
   "outputs": [],
   "source": [
    "model = CryptoInformer() # Using default settings\n",
    "optimizer = torch.optim.Adam(model.parameters(), lr=LEARNING_RATE)\n",
    "print(model)"
   ]
  },
  {
   "cell_type": "code",
   "execution_count": null,
   "id": "284f9b70",
   "metadata": {},
   "outputs": [],
   "source": [
    "# Optional: Load previously trained model parameters (.pth file)\n",
    "pretrained_model_path = \"saved_models/CryptoTransformer_2025-04-09_21-31-23/CryptoTransformer_BEST_R2.pth\"\n",
    "# model.load_state_dict(torch.load(pretrained_model_path))"
   ]
  },
  {
   "cell_type": "code",
   "execution_count": null,
   "id": "4e94f9fb",
   "metadata": {},
   "outputs": [],
   "source": [
    "training_loss_history, validation_loss_history, mae_history, r2_history, normalizer = train_model(\n",
    "    model, optimizer, train_loader, val_loader,\n",
    "    num_epochs=NUM_EPOCHS, save_interval=SAVE_INTERVAL,\n",
    "    device=device\n",
    ")"
   ]
  },
  {
   "cell_type": "code",
   "execution_count": null,
   "id": "ebb79acc",
   "metadata": {},
   "outputs": [],
   "source": [
    "save_training_plots_and_metric_history(\n",
    "    training_loss_history, validation_loss_history, mae_history, r2_history, type(model).__name__\n",
    ")"
   ]
  },
  {
   "cell_type": "markdown",
   "id": "4987d81f",
   "metadata": {},
   "source": [
    "## 3. Test"
   ]
  },
  {
   "cell_type": "code",
   "execution_count": null,
   "id": "27be54f3",
   "metadata": {},
   "outputs": [],
   "source": [
    "final_evaluation_loss, final_mae, final_r2 = evaluate_crypto_model(model, test_loader, normalizer)\n",
    "print(f\"Loss: {final_evaluation_loss:.4f}, MAE: {final_mae:.4f}, R2: {final_r2:.4f}\")"
   ]
  }
 ],
 "metadata": {
  "kernelspec": {
   "display_name": "term6",
   "language": "python",
   "name": "python3"
  },
  "language_info": {
   "codemirror_mode": {
    "name": "ipython",
    "version": 3
   },
   "file_extension": ".py",
   "mimetype": "text/x-python",
   "name": "python",
   "nbconvert_exporter": "python",
   "pygments_lexer": "ipython3",
   "version": "3.12.8"
  }
 },
 "nbformat": 4,
 "nbformat_minor": 5
}
