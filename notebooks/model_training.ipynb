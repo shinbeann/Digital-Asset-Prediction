{
 "cells": [
  {
   "cell_type": "markdown",
   "id": "2a41831d",
   "metadata": {},
   "source": [
    "# Model Training"
   ]
  },
  {
   "cell_type": "markdown",
   "id": "78f6dcab",
   "metadata": {},
   "source": [
    "## 0. Setup"
   ]
  },
  {
   "cell_type": "code",
   "execution_count": 1,
   "id": "5705ed5d",
   "metadata": {},
   "outputs": [],
   "source": [
    "# Automatic reloading\n",
    "%load_ext autoreload\n",
    "%autoreload 2"
   ]
  },
  {
   "cell_type": "code",
   "execution_count": 12,
   "id": "718218ef",
   "metadata": {},
   "outputs": [],
   "source": [
    "####################\n",
    "# Required Modules #\n",
    "####################\n",
    "\n",
    "# Generic/Built-in\n",
    "import random\n",
    "import sys \n",
    "import os\n",
    "\n",
    "# Libs\n",
    "import numpy as np\n",
    "import torch\n",
    "from torch.utils.data import Dataset, DataLoader, random_split\n",
    "import torch.nn as nn\n",
    "import torch.optim as optim"
   ]
  },
  {
   "cell_type": "code",
   "execution_count": null,
   "id": "01a9c742",
   "metadata": {},
   "outputs": [
    {
     "data": {
      "text/plain": [
       "'c:\\\\Users\\\\Ryan Lee\\\\Desktop\\\\50.038 Computational Data Science\\\\Digital-Asset-Prediction'"
      ]
     },
     "execution_count": 3,
     "metadata": {},
     "output_type": "execute_result"
    }
   ],
   "source": [
    "# Get the project directory \n",
    "current_dir = os.path.abspath('') # Current '\\notebooks' directory\n",
    "project_dir = os.path.abspath(os.path.join(current_dir, '..')) # Move up one level to project root directory\n",
    "\n",
    "# Add the project directory to sys.path\n",
    "sys.path.append(project_dir)\n",
    "\n",
    "# Move up to project directory\n",
    "os.chdir(project_dir)\n",
    "os.getcwd()"
   ]
  },
  {
   "cell_type": "code",
   "execution_count": 5,
   "id": "738ac540",
   "metadata": {},
   "outputs": [],
   "source": [
    "# Import custom modules\n",
    "from src.dataset import *\n",
    "from src.models import *\n",
    "from src.train_eval import *"
   ]
  },
  {
   "cell_type": "code",
   "execution_count": 4,
   "id": "1deb6be2",
   "metadata": {},
   "outputs": [],
   "source": [
    "# Seeding\n",
    "SEED = 42\n",
    "\n",
    "# To be safe, seed all modules for full reproducibility\n",
    "torch.manual_seed(SEED)\n",
    "torch.cuda.manual_seed_all(SEED)  # If using CUDA\n",
    "np.random.seed(SEED)\n",
    "random.seed(SEED)"
   ]
  },
  {
   "cell_type": "code",
   "execution_count": 25,
   "id": "67d9200c",
   "metadata": {},
   "outputs": [
    {
     "name": "stdout",
     "output_type": "stream",
     "text": [
      "cuda\n"
     ]
    }
   ],
   "source": [
    "# Device\n",
    "device = torch.device(\"cuda\" if torch.cuda.is_available() else \"cpu\")\n",
    "print(device)"
   ]
  },
  {
   "cell_type": "markdown",
   "id": "bf58427a",
   "metadata": {},
   "source": [
    "## 1. Prepare Dataset"
   ]
  },
  {
   "cell_type": "code",
   "execution_count": 20,
   "id": "867aaf9e",
   "metadata": {},
   "outputs": [],
   "source": [
    "# Hyperparameters\n",
    "CSV_PATH = \"data/processed/combined_dataset_v1.csv\"\n",
    "INPUT_SEQUENCE_LENGTH = 14 # Number of timesteps (days) in input sequence\n",
    "DATASET_STRIDE = 1\n",
    "BATCH_SIZE = 128"
   ]
  },
  {
   "cell_type": "code",
   "execution_count": 21,
   "id": "d5f9f142",
   "metadata": {},
   "outputs": [
    {
     "name": "stdout",
     "output_type": "stream",
     "text": [
      "Total number of samples (sequences): 107490\n"
     ]
    }
   ],
   "source": [
    "# Create Dataset\n",
    "dataset = CryptoDataset(\n",
    "    csv_file=CSV_PATH,\n",
    "    seq_length=INPUT_SEQUENCE_LENGTH,\n",
    "    stride=DATASET_STRIDE\n",
    ")\n",
    "\n",
    "print(\"Total number of samples (sequences):\", len(dataset))"
   ]
  },
  {
   "cell_type": "code",
   "execution_count": 22,
   "id": "2dbd2990",
   "metadata": {},
   "outputs": [],
   "source": [
    "# Split into train, validation, and test sets\n",
    "train_dataset, val_dataset, test_dataset = random_split(dataset, [0.8, 0.1, 0.1])\n",
    "\n",
    "# Create respective data loaders\n",
    "train_loader = DataLoader(train_dataset, batch_size=BATCH_SIZE, shuffle=True)\n",
    "val_loader = DataLoader(val_dataset, batch_size=BATCH_SIZE, shuffle=True)\n",
    "test_loader = DataLoader(test_dataset, batch_size=BATCH_SIZE, shuffle=True)"
   ]
  },
  {
   "cell_type": "markdown",
   "id": "dc749d68",
   "metadata": {},
   "source": [
    "## 2. Training\n",
    "`train_model` will save model parameters to `saved_models` directory (by default)."
   ]
  },
  {
   "cell_type": "code",
   "execution_count": null,
   "id": "12bbb753",
   "metadata": {},
   "outputs": [],
   "source": [
    "# Hyperparameters\n",
    "LEARNING_RATE = 0.001 # standard for Adam\n",
    "NUM_EPOCHS = 20\n",
    "SAVE_INTERVAL = 5"
   ]
  },
  {
   "cell_type": "code",
   "execution_count": 53,
   "id": "00d8fb43",
   "metadata": {},
   "outputs": [],
   "source": [
    "model = CryptoGRU() # Using default settings\n",
    "optimizer = torch.optim.Adam(model.parameters(), lr=LEARNING_RATE)"
   ]
  },
  {
   "cell_type": "code",
   "execution_count": null,
   "id": "284f9b70",
   "metadata": {},
   "outputs": [],
   "source": [
    "# Optional (load parameters)\n",
    "model_path = \"saved_models/CryptoTransformer_2025-04-09_21-31-23/CryptoTransformer_BEST_R2.pth\"\n",
    "# model.load_state_dict(torch.load(model_path))"
   ]
  },
  {
   "cell_type": "code",
   "execution_count": 54,
   "id": "4e94f9fb",
   "metadata": {},
   "outputs": [
    {
     "name": "stdout",
     "output_type": "stream",
     "text": [
      "Epoch [1/15] | Time: 28.38s\n",
      "(Training) Loss: 214086.4793\n",
      "(Validation) Loss: 245604.0259, MAE: 685.2863, R2: -0.0132\n",
      "✅ Model saved: saved_models\\CryptoGRU_2025-04-09_22-08-04\\CryptoGRU_BEST_R2.pth\n",
      "==========================================================================================\n",
      "Epoch [2/15] | Time: 28.73s\n",
      "(Training) Loss: 213754.8699\n",
      "(Validation) Loss: 245091.6299, MAE: 673.5078, R2: -0.0117\n",
      "✅ Model saved: saved_models\\CryptoGRU_2025-04-09_22-08-04\\CryptoGRU_BEST_R2.pth\n",
      "==========================================================================================\n",
      "Epoch [3/15] | Time: 27.39s\n",
      "(Training) Loss: 213536.4077\n",
      "(Validation) Loss: 244798.4641, MAE: 670.8036, R2: -0.0102\n",
      "✅ Model saved: saved_models\\CryptoGRU_2025-04-09_22-08-04\\CryptoGRU_BEST_R2.pth\n",
      "==========================================================================================\n",
      "Epoch [4/15] | Time: 28.31s\n",
      "(Training) Loss: 213133.3542\n",
      "(Validation) Loss: 244476.9252, MAE: 666.9100, R2: -0.0087\n",
      "✅ Model saved: saved_models\\CryptoGRU_2025-04-09_22-08-04\\CryptoGRU_BEST_R2.pth\n",
      "==========================================================================================\n",
      "Epoch [5/15] | Time: 28.70s\n",
      "(Training) Loss: 212844.4660\n",
      "(Validation) Loss: 244049.3504, MAE: 663.6702, R2: -0.0073\n",
      "✅ Model saved: saved_models\\CryptoGRU_2025-04-09_22-08-04\\CryptoGRU_BEST_R2.pth\n",
      "✅ Model saved: saved_models\\CryptoGRU_2025-04-09_22-08-04\\CryptoGRU_epoch5.pth\n",
      "==========================================================================================\n",
      "Epoch [6/15] | Time: 30.53s\n",
      "(Training) Loss: 212522.8346\n",
      "(Validation) Loss: 243718.8705, MAE: 662.7339, R2: -0.0058\n",
      "✅ Model saved: saved_models\\CryptoGRU_2025-04-09_22-08-04\\CryptoGRU_BEST_R2.pth\n",
      "==========================================================================================\n",
      "Epoch [7/15] | Time: 28.50s\n",
      "(Training) Loss: 212325.3373\n",
      "(Validation) Loss: 243313.2202, MAE: 658.9933, R2: -0.0044\n",
      "✅ Model saved: saved_models\\CryptoGRU_2025-04-09_22-08-04\\CryptoGRU_BEST_R2.pth\n",
      "==========================================================================================\n",
      "Epoch [8/15] | Time: 28.62s\n",
      "(Training) Loss: 212003.3902\n",
      "(Validation) Loss: 242992.7544, MAE: 657.4995, R2: -0.0029\n",
      "✅ Model saved: saved_models\\CryptoGRU_2025-04-09_22-08-04\\CryptoGRU_BEST_R2.pth\n",
      "==========================================================================================\n",
      "Epoch [9/15] | Time: 27.82s\n",
      "(Training) Loss: 211798.2726\n",
      "(Validation) Loss: 242609.8138, MAE: 655.6970, R2: -0.0015\n",
      "✅ Model saved: saved_models\\CryptoGRU_2025-04-09_22-08-04\\CryptoGRU_BEST_R2.pth\n",
      "==========================================================================================\n",
      "Epoch [10/15] | Time: 28.39s\n",
      "(Training) Loss: 211378.6816\n",
      "(Validation) Loss: 242358.5713, MAE: 652.9858, R2: -0.0001\n",
      "✅ Model saved: saved_models\\CryptoGRU_2025-04-09_22-08-04\\CryptoGRU_BEST_R2.pth\n",
      "✅ Model saved: saved_models\\CryptoGRU_2025-04-09_22-08-04\\CryptoGRU_epoch10.pth\n",
      "==========================================================================================\n",
      "Epoch [11/15] | Time: 27.90s\n",
      "(Training) Loss: 211020.3097\n",
      "(Validation) Loss: 241929.9286, MAE: 651.8392, R2: 0.0013\n",
      "✅ Model saved: saved_models\\CryptoGRU_2025-04-09_22-08-04\\CryptoGRU_BEST_R2.pth\n",
      "==========================================================================================\n",
      "Epoch [12/15] | Time: 28.79s\n",
      "(Training) Loss: 210727.0995\n",
      "(Validation) Loss: 241647.1841, MAE: 648.9186, R2: 0.0028\n",
      "✅ Model saved: saved_models\\CryptoGRU_2025-04-09_22-08-04\\CryptoGRU_BEST_R2.pth\n",
      "==========================================================================================\n",
      "Epoch [13/15] | Time: 27.72s\n",
      "(Training) Loss: 210422.4333\n",
      "(Validation) Loss: 241273.4103, MAE: 646.8208, R2: 0.0042\n",
      "✅ Model saved: saved_models\\CryptoGRU_2025-04-09_22-08-04\\CryptoGRU_BEST_R2.pth\n",
      "==========================================================================================\n",
      "Epoch [14/15] | Time: 28.32s\n",
      "(Training) Loss: 210228.5285\n",
      "(Validation) Loss: 240892.8600, MAE: 644.9716, R2: 0.0056\n",
      "✅ Model saved: saved_models\\CryptoGRU_2025-04-09_22-08-04\\CryptoGRU_BEST_R2.pth\n",
      "==========================================================================================\n",
      "Epoch [15/15] | Time: 28.45s\n",
      "(Training) Loss: 209833.4008\n",
      "(Validation) Loss: 240579.7119, MAE: 643.1667, R2: 0.0070\n",
      "✅ Model saved: saved_models\\CryptoGRU_2025-04-09_22-08-04\\CryptoGRU_BEST_R2.pth\n",
      "✅ Model saved: saved_models\\CryptoGRU_2025-04-09_22-08-04\\CryptoGRU_epoch15.pth\n",
      "==========================================================================================\n"
     ]
    }
   ],
   "source": [
    "training_loss_history, validation_loss_history, mae_history, r2_history, normalizer = train_model(\n",
    "    model, optimizer, train_loader, val_loader,\n",
    "    num_epochs=NUM_EPOCHS, save_interval=SAVE_INTERVAL,\n",
    "    device=device\n",
    ")"
   ]
  },
  {
   "cell_type": "markdown",
   "id": "4987d81f",
   "metadata": {},
   "source": [
    "## 3. Test"
   ]
  },
  {
   "cell_type": "code",
   "execution_count": 55,
   "id": "27be54f3",
   "metadata": {},
   "outputs": [
    {
     "name": "stdout",
     "output_type": "stream",
     "text": [
      "Loss: 194049.5673, MAE: 545.6884, R2: 0.0096\n"
     ]
    }
   ],
   "source": [
    "final_evaluation_loss, final_mae, final_r2 = evaluate_crypto_model(model, test_loader, normalizer)\n",
    "print(f\"Loss: {final_evaluation_loss:.4f}, MAE: {final_mae:.4f}, R2: {final_r2:.4f}\")"
   ]
  }
 ],
 "metadata": {
  "kernelspec": {
   "display_name": "term6",
   "language": "python",
   "name": "python3"
  },
  "language_info": {
   "codemirror_mode": {
    "name": "ipython",
    "version": 3
   },
   "file_extension": ".py",
   "mimetype": "text/x-python",
   "name": "python",
   "nbconvert_exporter": "python",
   "pygments_lexer": "ipython3",
   "version": "3.12.8"
  }
 },
 "nbformat": 4,
 "nbformat_minor": 5
}
