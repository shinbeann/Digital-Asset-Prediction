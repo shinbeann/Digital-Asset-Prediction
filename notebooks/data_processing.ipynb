{
 "cells": [
  {
   "cell_type": "markdown",
   "metadata": {},
   "source": [
    "# Data Processing"
   ]
  },
  {
   "cell_type": "markdown",
   "metadata": {},
   "source": [
    "## 0. Setup"
   ]
  },
  {
   "cell_type": "code",
   "execution_count": 1,
   "metadata": {},
   "outputs": [],
   "source": [
    "# Automatic reloading\n",
    "%load_ext autoreload\n",
    "%autoreload 2"
   ]
  },
  {
   "cell_type": "code",
   "execution_count": 2,
   "metadata": {},
   "outputs": [],
   "source": [
    "####################\n",
    "# Required Modules #\n",
    "####################\n",
    "\n",
    "# Generic/Built-in\n",
    "import sys\n",
    "import os\n",
    "\n",
    "# Libs\n",
    "import pandas as pd"
   ]
  },
  {
   "cell_type": "code",
   "execution_count": 3,
   "metadata": {},
   "outputs": [
    {
     "data": {
      "text/plain": [
       "'c:\\\\Users\\\\Ryan Lee\\\\Desktop\\\\50.038 Computational Data Science\\\\Digital-Asset-Prediction'"
      ]
     },
     "execution_count": 3,
     "metadata": {},
     "output_type": "execute_result"
    }
   ],
   "source": [
    "# Get the project directory \n",
    "current_dir = os.path.abspath('') # Current '\\notebooks' directory\n",
    "project_dir = os.path.abspath(os.path.join(current_dir, '..')) # Move up one level to project root directory\n",
    "\n",
    "# Add the project directory to sys.path\n",
    "sys.path.append(project_dir)\n",
    "\n",
    "# Move up to project directory\n",
    "os.chdir(project_dir)\n",
    "os.getcwd()"
   ]
  },
  {
   "cell_type": "markdown",
   "metadata": {},
   "source": [
    "## 1. OHLC Data (Binance)"
   ]
  },
  {
   "cell_type": "code",
   "execution_count": 4,
   "metadata": {},
   "outputs": [
    {
     "data": {
      "text/html": [
       "<div>\n",
       "<style scoped>\n",
       "    .dataframe tbody tr th:only-of-type {\n",
       "        vertical-align: middle;\n",
       "    }\n",
       "\n",
       "    .dataframe tbody tr th {\n",
       "        vertical-align: top;\n",
       "    }\n",
       "\n",
       "    .dataframe thead th {\n",
       "        text-align: right;\n",
       "    }\n",
       "</style>\n",
       "<table border=\"1\" class=\"dataframe\">\n",
       "  <thead>\n",
       "    <tr style=\"text-align: right;\">\n",
       "      <th></th>\n",
       "      <th>symbol</th>\n",
       "      <th>open</th>\n",
       "      <th>high</th>\n",
       "      <th>low</th>\n",
       "      <th>close</th>\n",
       "      <th>volume</th>\n",
       "    </tr>\n",
       "    <tr>\n",
       "      <th>timestamp</th>\n",
       "      <th></th>\n",
       "      <th></th>\n",
       "      <th></th>\n",
       "      <th></th>\n",
       "      <th></th>\n",
       "      <th></th>\n",
       "    </tr>\n",
       "  </thead>\n",
       "  <tbody>\n",
       "    <tr>\n",
       "      <th>2022-03-24</th>\n",
       "      <td>BTC/USDT</td>\n",
       "      <td>42882.7600</td>\n",
       "      <td>44220.8900</td>\n",
       "      <td>42560.4600</td>\n",
       "      <td>43991.4600</td>\n",
       "      <td>5.619512e+04</td>\n",
       "    </tr>\n",
       "    <tr>\n",
       "      <th>2022-03-24</th>\n",
       "      <td>BNB/USDT</td>\n",
       "      <td>408.4000</td>\n",
       "      <td>416.6000</td>\n",
       "      <td>405.0000</td>\n",
       "      <td>414.2000</td>\n",
       "      <td>5.983661e+05</td>\n",
       "    </tr>\n",
       "    <tr>\n",
       "      <th>2022-03-24</th>\n",
       "      <td>CHR/USDT</td>\n",
       "      <td>0.4699</td>\n",
       "      <td>0.4906</td>\n",
       "      <td>0.4510</td>\n",
       "      <td>0.4756</td>\n",
       "      <td>4.414470e+07</td>\n",
       "    </tr>\n",
       "    <tr>\n",
       "      <th>2022-03-24</th>\n",
       "      <td>HIVE/USDT</td>\n",
       "      <td>0.9443</td>\n",
       "      <td>1.0248</td>\n",
       "      <td>0.9396</td>\n",
       "      <td>1.0248</td>\n",
       "      <td>4.736850e+06</td>\n",
       "    </tr>\n",
       "    <tr>\n",
       "      <th>2022-03-24</th>\n",
       "      <td>CTSI/USDT</td>\n",
       "      <td>0.3824</td>\n",
       "      <td>0.3915</td>\n",
       "      <td>0.3724</td>\n",
       "      <td>0.3890</td>\n",
       "      <td>1.173377e+07</td>\n",
       "    </tr>\n",
       "  </tbody>\n",
       "</table>\n",
       "</div>"
      ],
      "text/plain": [
       "               symbol        open        high         low       close  \\\n",
       "timestamp                                                               \n",
       "2022-03-24   BTC/USDT  42882.7600  44220.8900  42560.4600  43991.4600   \n",
       "2022-03-24   BNB/USDT    408.4000    416.6000    405.0000    414.2000   \n",
       "2022-03-24   CHR/USDT      0.4699      0.4906      0.4510      0.4756   \n",
       "2022-03-24  HIVE/USDT      0.9443      1.0248      0.9396      1.0248   \n",
       "2022-03-24  CTSI/USDT      0.3824      0.3915      0.3724      0.3890   \n",
       "\n",
       "                  volume  \n",
       "timestamp                 \n",
       "2022-03-24  5.619512e+04  \n",
       "2022-03-24  5.983661e+05  \n",
       "2022-03-24  4.414470e+07  \n",
       "2022-03-24  4.736850e+06  \n",
       "2022-03-24  1.173377e+07  "
      ]
     },
     "execution_count": 4,
     "metadata": {},
     "output_type": "execute_result"
    }
   ],
   "source": [
    "# Load OHLC data\n",
    "ohlc = pd.read_csv(\"data/raw/binance_ohlc_data_20250327.csv\")\n",
    "ohlc['timestamp'] = pd.to_datetime(ohlc['timestamp'])\n",
    "ohlc = ohlc.set_index('timestamp').sort_index()\n",
    "ohlc.head()"
   ]
  },
  {
   "cell_type": "markdown",
   "metadata": {},
   "source": [
    "## 2. Volume, Market Cap, Daily Return (Binance)"
   ]
  },
  {
   "cell_type": "code",
   "execution_count": 5,
   "metadata": {},
   "outputs": [
    {
     "name": "stdout",
     "output_type": "stream",
     "text": [
      "Missing values: 100\n"
     ]
    },
    {
     "data": {
      "text/html": [
       "<div>\n",
       "<style scoped>\n",
       "    .dataframe tbody tr th:only-of-type {\n",
       "        vertical-align: middle;\n",
       "    }\n",
       "\n",
       "    .dataframe tbody tr th {\n",
       "        vertical-align: top;\n",
       "    }\n",
       "\n",
       "    .dataframe thead th {\n",
       "        text-align: right;\n",
       "    }\n",
       "</style>\n",
       "<table border=\"1\" class=\"dataframe\">\n",
       "  <thead>\n",
       "    <tr style=\"text-align: right;\">\n",
       "      <th></th>\n",
       "      <th>date</th>\n",
       "      <th>price</th>\n",
       "      <th>volume</th>\n",
       "      <th>market_cap</th>\n",
       "      <th>daily_return</th>\n",
       "      <th>asset</th>\n",
       "    </tr>\n",
       "  </thead>\n",
       "  <tbody>\n",
       "    <tr>\n",
       "      <th>0</th>\n",
       "      <td>2022-03-24</td>\n",
       "      <td>43991.46000</td>\n",
       "      <td>5.619512e+04</td>\n",
       "      <td>2.472106e+09</td>\n",
       "      <td>NaN</td>\n",
       "      <td>BTC/USDT</td>\n",
       "    </tr>\n",
       "    <tr>\n",
       "      <th>1097</th>\n",
       "      <td>2022-03-24</td>\n",
       "      <td>3110.76000</td>\n",
       "      <td>5.771715e+05</td>\n",
       "      <td>1.795442e+09</td>\n",
       "      <td>NaN</td>\n",
       "      <td>ETH/USDT</td>\n",
       "    </tr>\n",
       "    <tr>\n",
       "      <th>2194</th>\n",
       "      <td>2022-03-24</td>\n",
       "      <td>414.20000</td>\n",
       "      <td>5.983661e+05</td>\n",
       "      <td>2.478432e+08</td>\n",
       "      <td>NaN</td>\n",
       "      <td>BNB/USDT</td>\n",
       "    </tr>\n",
       "    <tr>\n",
       "      <th>3291</th>\n",
       "      <td>2022-03-24</td>\n",
       "      <td>24.40000</td>\n",
       "      <td>5.118541e+05</td>\n",
       "      <td>1.248924e+07</td>\n",
       "      <td>NaN</td>\n",
       "      <td>NEO/USDT</td>\n",
       "    </tr>\n",
       "    <tr>\n",
       "      <th>4388</th>\n",
       "      <td>2022-03-24</td>\n",
       "      <td>126.50000</td>\n",
       "      <td>4.946735e+05</td>\n",
       "      <td>6.257620e+07</td>\n",
       "      <td>NaN</td>\n",
       "      <td>LTC/USDT</td>\n",
       "    </tr>\n",
       "    <tr>\n",
       "      <th>...</th>\n",
       "      <td>...</td>\n",
       "      <td>...</td>\n",
       "      <td>...</td>\n",
       "      <td>...</td>\n",
       "      <td>...</td>\n",
       "      <td>...</td>\n",
       "    </tr>\n",
       "    <tr>\n",
       "      <th>103422</th>\n",
       "      <td>2022-03-24</td>\n",
       "      <td>29.71000</td>\n",
       "      <td>1.887342e+04</td>\n",
       "      <td>5.607293e+05</td>\n",
       "      <td>NaN</td>\n",
       "      <td>NMR/USDT</td>\n",
       "    </tr>\n",
       "    <tr>\n",
       "      <th>104519</th>\n",
       "      <td>2022-03-24</td>\n",
       "      <td>21.26000</td>\n",
       "      <td>7.157668e+06</td>\n",
       "      <td>1.521720e+08</td>\n",
       "      <td>NaN</td>\n",
       "      <td>DOT/USDT</td>\n",
       "    </tr>\n",
       "    <tr>\n",
       "      <th>105616</th>\n",
       "      <td>2022-03-24</td>\n",
       "      <td>93.64000</td>\n",
       "      <td>2.869856e+06</td>\n",
       "      <td>2.687333e+08</td>\n",
       "      <td>NaN</td>\n",
       "      <td>LUNA/USDT</td>\n",
       "    </tr>\n",
       "    <tr>\n",
       "      <th>106696</th>\n",
       "      <td>2022-03-24</td>\n",
       "      <td>0.01467</td>\n",
       "      <td>5.972397e+08</td>\n",
       "      <td>8.761507e+06</td>\n",
       "      <td>NaN</td>\n",
       "      <td>RSR/USDT</td>\n",
       "    </tr>\n",
       "    <tr>\n",
       "      <th>107793</th>\n",
       "      <td>2022-03-24</td>\n",
       "      <td>1958.00000</td>\n",
       "      <td>6.159416e+03</td>\n",
       "      <td>1.206014e+07</td>\n",
       "      <td>NaN</td>\n",
       "      <td>PAXG/USDT</td>\n",
       "    </tr>\n",
       "  </tbody>\n",
       "</table>\n",
       "<p>100 rows × 6 columns</p>\n",
       "</div>"
      ],
      "text/plain": [
       "              date        price        volume    market_cap  daily_return  \\\n",
       "0       2022-03-24  43991.46000  5.619512e+04  2.472106e+09           NaN   \n",
       "1097    2022-03-24   3110.76000  5.771715e+05  1.795442e+09           NaN   \n",
       "2194    2022-03-24    414.20000  5.983661e+05  2.478432e+08           NaN   \n",
       "3291    2022-03-24     24.40000  5.118541e+05  1.248924e+07           NaN   \n",
       "4388    2022-03-24    126.50000  4.946735e+05  6.257620e+07           NaN   \n",
       "...            ...          ...           ...           ...           ...   \n",
       "103422  2022-03-24     29.71000  1.887342e+04  5.607293e+05           NaN   \n",
       "104519  2022-03-24     21.26000  7.157668e+06  1.521720e+08           NaN   \n",
       "105616  2022-03-24     93.64000  2.869856e+06  2.687333e+08           NaN   \n",
       "106696  2022-03-24      0.01467  5.972397e+08  8.761507e+06           NaN   \n",
       "107793  2022-03-24   1958.00000  6.159416e+03  1.206014e+07           NaN   \n",
       "\n",
       "            asset  \n",
       "0        BTC/USDT  \n",
       "1097     ETH/USDT  \n",
       "2194     BNB/USDT  \n",
       "3291     NEO/USDT  \n",
       "4388     LTC/USDT  \n",
       "...           ...  \n",
       "103422   NMR/USDT  \n",
       "104519   DOT/USDT  \n",
       "105616  LUNA/USDT  \n",
       "106696   RSR/USDT  \n",
       "107793  PAXG/USDT  \n",
       "\n",
       "[100 rows x 6 columns]"
      ]
     },
     "execution_count": 5,
     "metadata": {},
     "output_type": "execute_result"
    }
   ],
   "source": [
    "crypto = pd.read_csv(\"data/raw/binance_crypto_data_20250327.csv\")\n",
    "rows_with_na = crypto[crypto.isna().any(axis=1)]\n",
    "print(\"Missing values:\", len(rows_with_na))\n",
    "rows_with_na"
   ]
  },
  {
   "cell_type": "markdown",
   "metadata": {},
   "source": [
    "Each crypto is missing `market_cap` value for the first date (2022-03-24). Because the value for the first date is missing, we need to **backfill** the missing values."
   ]
  },
  {
   "cell_type": "code",
   "execution_count": 6,
   "metadata": {},
   "outputs": [
    {
     "data": {
      "text/html": [
       "<div>\n",
       "<style scoped>\n",
       "    .dataframe tbody tr th:only-of-type {\n",
       "        vertical-align: middle;\n",
       "    }\n",
       "\n",
       "    .dataframe tbody tr th {\n",
       "        vertical-align: top;\n",
       "    }\n",
       "\n",
       "    .dataframe thead th {\n",
       "        text-align: right;\n",
       "    }\n",
       "</style>\n",
       "<table border=\"1\" class=\"dataframe\">\n",
       "  <thead>\n",
       "    <tr style=\"text-align: right;\">\n",
       "      <th></th>\n",
       "      <th>price</th>\n",
       "      <th>volume</th>\n",
       "      <th>market_cap</th>\n",
       "      <th>daily_return</th>\n",
       "      <th>asset</th>\n",
       "    </tr>\n",
       "    <tr>\n",
       "      <th>date</th>\n",
       "      <th></th>\n",
       "      <th></th>\n",
       "      <th></th>\n",
       "      <th></th>\n",
       "      <th></th>\n",
       "    </tr>\n",
       "  </thead>\n",
       "  <tbody>\n",
       "    <tr>\n",
       "      <th>2022-03-24</th>\n",
       "      <td>43991.4600</td>\n",
       "      <td>5.619512e+04</td>\n",
       "      <td>2.472106e+09</td>\n",
       "      <td>0.007313</td>\n",
       "      <td>BTC/USDT</td>\n",
       "    </tr>\n",
       "    <tr>\n",
       "      <th>2022-03-24</th>\n",
       "      <td>414.2000</td>\n",
       "      <td>5.983661e+05</td>\n",
       "      <td>2.478432e+08</td>\n",
       "      <td>-0.009416</td>\n",
       "      <td>BNB/USDT</td>\n",
       "    </tr>\n",
       "    <tr>\n",
       "      <th>2022-03-24</th>\n",
       "      <td>0.4756</td>\n",
       "      <td>4.414470e+07</td>\n",
       "      <td>2.099522e+07</td>\n",
       "      <td>-0.038267</td>\n",
       "      <td>CHR/USDT</td>\n",
       "    </tr>\n",
       "    <tr>\n",
       "      <th>2022-03-24</th>\n",
       "      <td>1.0248</td>\n",
       "      <td>4.736850e+06</td>\n",
       "      <td>4.854324e+06</td>\n",
       "      <td>-0.021370</td>\n",
       "      <td>HIVE/USDT</td>\n",
       "    </tr>\n",
       "    <tr>\n",
       "      <th>2022-03-24</th>\n",
       "      <td>0.3890</td>\n",
       "      <td>1.173377e+07</td>\n",
       "      <td>4.564435e+06</td>\n",
       "      <td>-0.064267</td>\n",
       "      <td>CTSI/USDT</td>\n",
       "    </tr>\n",
       "  </tbody>\n",
       "</table>\n",
       "</div>"
      ],
      "text/plain": [
       "                 price        volume    market_cap  daily_return      asset\n",
       "date                                                                       \n",
       "2022-03-24  43991.4600  5.619512e+04  2.472106e+09      0.007313   BTC/USDT\n",
       "2022-03-24    414.2000  5.983661e+05  2.478432e+08     -0.009416   BNB/USDT\n",
       "2022-03-24      0.4756  4.414470e+07  2.099522e+07     -0.038267   CHR/USDT\n",
       "2022-03-24      1.0248  4.736850e+06  4.854324e+06     -0.021370  HIVE/USDT\n",
       "2022-03-24      0.3890  1.173377e+07  4.564435e+06     -0.064267  CTSI/USDT"
      ]
     },
     "execution_count": 6,
     "metadata": {},
     "output_type": "execute_result"
    }
   ],
   "source": [
    "crypto['date'] = pd.to_datetime(crypto['date'])\n",
    "crypto = crypto.bfill() # Backfill missing market_cap values\n",
    "crypto = crypto.set_index('date').sort_index()\n",
    "crypto.head()"
   ]
  },
  {
   "cell_type": "markdown",
   "metadata": {},
   "source": [
    "## 3. S&P500"
   ]
  },
  {
   "cell_type": "code",
   "execution_count": 7,
   "metadata": {},
   "outputs": [
    {
     "name": "stdout",
     "output_type": "stream",
     "text": [
      "Missing values: 31\n"
     ]
    },
    {
     "data": {
      "text/html": [
       "<div>\n",
       "<style scoped>\n",
       "    .dataframe tbody tr th:only-of-type {\n",
       "        vertical-align: middle;\n",
       "    }\n",
       "\n",
       "    .dataframe tbody tr th {\n",
       "        vertical-align: top;\n",
       "    }\n",
       "\n",
       "    .dataframe thead th {\n",
       "        text-align: right;\n",
       "    }\n",
       "</style>\n",
       "<table border=\"1\" class=\"dataframe\">\n",
       "  <thead>\n",
       "    <tr style=\"text-align: right;\">\n",
       "      <th></th>\n",
       "      <th>realtime_start</th>\n",
       "      <th>realtime_end</th>\n",
       "      <th>date</th>\n",
       "      <th>value</th>\n",
       "    </tr>\n",
       "  </thead>\n",
       "  <tbody>\n",
       "    <tr>\n",
       "      <th>16</th>\n",
       "      <td>2025-03-27</td>\n",
       "      <td>2025-03-27</td>\n",
       "      <td>2022-04-15</td>\n",
       "      <td>NaN</td>\n",
       "    </tr>\n",
       "    <tr>\n",
       "      <th>47</th>\n",
       "      <td>2025-03-27</td>\n",
       "      <td>2025-03-27</td>\n",
       "      <td>2022-05-30</td>\n",
       "      <td>NaN</td>\n",
       "    </tr>\n",
       "    <tr>\n",
       "      <th>62</th>\n",
       "      <td>2025-03-27</td>\n",
       "      <td>2025-03-27</td>\n",
       "      <td>2022-06-20</td>\n",
       "      <td>NaN</td>\n",
       "    </tr>\n",
       "    <tr>\n",
       "      <th>72</th>\n",
       "      <td>2025-03-27</td>\n",
       "      <td>2025-03-27</td>\n",
       "      <td>2022-07-04</td>\n",
       "      <td>NaN</td>\n",
       "    </tr>\n",
       "    <tr>\n",
       "      <th>117</th>\n",
       "      <td>2025-03-27</td>\n",
       "      <td>2025-03-27</td>\n",
       "      <td>2022-09-05</td>\n",
       "      <td>NaN</td>\n",
       "    </tr>\n",
       "  </tbody>\n",
       "</table>\n",
       "</div>"
      ],
      "text/plain": [
       "    realtime_start realtime_end        date  value\n",
       "16      2025-03-27   2025-03-27  2022-04-15    NaN\n",
       "47      2025-03-27   2025-03-27  2022-05-30    NaN\n",
       "62      2025-03-27   2025-03-27  2022-06-20    NaN\n",
       "72      2025-03-27   2025-03-27  2022-07-04    NaN\n",
       "117     2025-03-27   2025-03-27  2022-09-05    NaN"
      ]
     },
     "execution_count": 7,
     "metadata": {},
     "output_type": "execute_result"
    }
   ],
   "source": [
    "sp500 = pd.read_csv(\"data/raw/sp500.csv\")\n",
    "rows_with_na = sp500[sp500.isna().any(axis=1)]\n",
    "print(\"Missing values:\", len(rows_with_na))\n",
    "rows_with_na.head()"
   ]
  },
  {
   "cell_type": "code",
   "execution_count": 8,
   "metadata": {},
   "outputs": [
    {
     "data": {
      "text/plain": [
       "date\n",
       "2022-03-24    4520.16\n",
       "2022-03-25    4543.06\n",
       "2022-03-28    4575.52\n",
       "2022-03-29    4631.60\n",
       "2022-03-30    4602.45\n",
       "Name: value, dtype: float64"
      ]
     },
     "execution_count": 8,
     "metadata": {},
     "output_type": "execute_result"
    }
   ],
   "source": [
    "sp500['date'] = pd.to_datetime(sp500['date'])\n",
    "sp500 = sp500.ffill() # Forward fill missing values\n",
    "sp500 = sp500.set_index('date')['value'].sort_index() # Keep only 'value' column\n",
    "sp500.head()"
   ]
  },
  {
   "cell_type": "code",
   "execution_count": 9,
   "metadata": {},
   "outputs": [
    {
     "data": {
      "text/plain": [
       "date\n",
       "2022-03-24    4520.16\n",
       "2022-03-25    4543.06\n",
       "2022-03-28    4575.52\n",
       "2022-03-29    4631.60\n",
       "2022-03-30    4602.45\n",
       "               ...   \n",
       "2025-03-18    5614.66\n",
       "2025-03-19    5675.29\n",
       "2025-03-20    5662.89\n",
       "2025-03-21    5667.56\n",
       "2025-03-24    5767.57\n",
       "Name: value, Length: 783, dtype: float64"
      ]
     },
     "execution_count": 9,
     "metadata": {},
     "output_type": "execute_result"
    }
   ],
   "source": [
    "sp500"
   ]
  },
  {
   "cell_type": "markdown",
   "metadata": {},
   "source": [
    "## 4. Treasury Constant Maturity Spread"
   ]
  },
  {
   "cell_type": "code",
   "execution_count": 10,
   "metadata": {},
   "outputs": [
    {
     "name": "stdout",
     "output_type": "stream",
     "text": [
      "Missing values: 34\n"
     ]
    },
    {
     "data": {
      "text/html": [
       "<div>\n",
       "<style scoped>\n",
       "    .dataframe tbody tr th:only-of-type {\n",
       "        vertical-align: middle;\n",
       "    }\n",
       "\n",
       "    .dataframe tbody tr th {\n",
       "        vertical-align: top;\n",
       "    }\n",
       "\n",
       "    .dataframe thead th {\n",
       "        text-align: right;\n",
       "    }\n",
       "</style>\n",
       "<table border=\"1\" class=\"dataframe\">\n",
       "  <thead>\n",
       "    <tr style=\"text-align: right;\">\n",
       "      <th></th>\n",
       "      <th>realtime_start</th>\n",
       "      <th>realtime_end</th>\n",
       "      <th>date</th>\n",
       "      <th>value</th>\n",
       "    </tr>\n",
       "  </thead>\n",
       "  <tbody>\n",
       "    <tr>\n",
       "      <th>16</th>\n",
       "      <td>2025-03-25</td>\n",
       "      <td>2025-03-25</td>\n",
       "      <td>2022-04-15</td>\n",
       "      <td>NaN</td>\n",
       "    </tr>\n",
       "    <tr>\n",
       "      <th>47</th>\n",
       "      <td>2025-03-25</td>\n",
       "      <td>2025-03-25</td>\n",
       "      <td>2022-05-30</td>\n",
       "      <td>NaN</td>\n",
       "    </tr>\n",
       "    <tr>\n",
       "      <th>62</th>\n",
       "      <td>2025-03-25</td>\n",
       "      <td>2025-03-25</td>\n",
       "      <td>2022-06-20</td>\n",
       "      <td>NaN</td>\n",
       "    </tr>\n",
       "    <tr>\n",
       "      <th>72</th>\n",
       "      <td>2025-03-25</td>\n",
       "      <td>2025-03-25</td>\n",
       "      <td>2022-07-04</td>\n",
       "      <td>NaN</td>\n",
       "    </tr>\n",
       "    <tr>\n",
       "      <th>117</th>\n",
       "      <td>2025-03-25</td>\n",
       "      <td>2025-03-25</td>\n",
       "      <td>2022-09-05</td>\n",
       "      <td>NaN</td>\n",
       "    </tr>\n",
       "  </tbody>\n",
       "</table>\n",
       "</div>"
      ],
      "text/plain": [
       "    realtime_start realtime_end        date  value\n",
       "16      2025-03-25   2025-03-25  2022-04-15    NaN\n",
       "47      2025-03-25   2025-03-25  2022-05-30    NaN\n",
       "62      2025-03-25   2025-03-25  2022-06-20    NaN\n",
       "72      2025-03-25   2025-03-25  2022-07-04    NaN\n",
       "117     2025-03-25   2025-03-25  2022-09-05    NaN"
      ]
     },
     "execution_count": 10,
     "metadata": {},
     "output_type": "execute_result"
    }
   ],
   "source": [
    "treasury = pd.read_csv(\"data/raw/treasury_constant_maturity_spread.csv\")\n",
    "rows_with_na = treasury[treasury.isna().any(axis=1)]\n",
    "print(\"Missing values:\", len(rows_with_na))\n",
    "rows_with_na.head()"
   ]
  },
  {
   "cell_type": "code",
   "execution_count": 11,
   "metadata": {},
   "outputs": [
    {
     "data": {
      "text/plain": [
       "date\n",
       "2022-03-24    0.21\n",
       "2022-03-25    0.18\n",
       "2022-03-28    0.11\n",
       "2022-03-29    0.06\n",
       "2022-03-30    0.04\n",
       "Name: value, dtype: float64"
      ]
     },
     "execution_count": 11,
     "metadata": {},
     "output_type": "execute_result"
    }
   ],
   "source": [
    "treasury['date'] = pd.to_datetime(treasury['date'])\n",
    "treasury = treasury.ffill()\n",
    "treasury = treasury.set_index('date')['value'].sort_index() # Keep only 'value' column\n",
    "treasury.head()"
   ]
  },
  {
   "cell_type": "markdown",
   "metadata": {},
   "source": [
    "## 5. Fear & Greed Index"
   ]
  },
  {
   "cell_type": "code",
   "execution_count": 12,
   "metadata": {},
   "outputs": [
    {
     "data": {
      "text/html": [
       "<div>\n",
       "<style scoped>\n",
       "    .dataframe tbody tr th:only-of-type {\n",
       "        vertical-align: middle;\n",
       "    }\n",
       "\n",
       "    .dataframe tbody tr th {\n",
       "        vertical-align: top;\n",
       "    }\n",
       "\n",
       "    .dataframe thead th {\n",
       "        text-align: right;\n",
       "    }\n",
       "</style>\n",
       "<table border=\"1\" class=\"dataframe\">\n",
       "  <thead>\n",
       "    <tr style=\"text-align: right;\">\n",
       "      <th></th>\n",
       "      <th>index_value</th>\n",
       "      <th>sentiment</th>\n",
       "    </tr>\n",
       "    <tr>\n",
       "      <th>date</th>\n",
       "      <th></th>\n",
       "      <th></th>\n",
       "    </tr>\n",
       "  </thead>\n",
       "  <tbody>\n",
       "    <tr>\n",
       "      <th>2022-03-24</th>\n",
       "      <td>40</td>\n",
       "      <td>Fear</td>\n",
       "    </tr>\n",
       "    <tr>\n",
       "      <th>2022-03-25</th>\n",
       "      <td>47</td>\n",
       "      <td>Neutral</td>\n",
       "    </tr>\n",
       "    <tr>\n",
       "      <th>2022-03-26</th>\n",
       "      <td>51</td>\n",
       "      <td>Neutral</td>\n",
       "    </tr>\n",
       "    <tr>\n",
       "      <th>2022-03-27</th>\n",
       "      <td>49</td>\n",
       "      <td>Neutral</td>\n",
       "    </tr>\n",
       "    <tr>\n",
       "      <th>2022-03-28</th>\n",
       "      <td>60</td>\n",
       "      <td>Greed</td>\n",
       "    </tr>\n",
       "    <tr>\n",
       "      <th>...</th>\n",
       "      <td>...</td>\n",
       "      <td>...</td>\n",
       "    </tr>\n",
       "    <tr>\n",
       "      <th>2025-03-21</th>\n",
       "      <td>31</td>\n",
       "      <td>Fear</td>\n",
       "    </tr>\n",
       "    <tr>\n",
       "      <th>2025-03-22</th>\n",
       "      <td>32</td>\n",
       "      <td>Fear</td>\n",
       "    </tr>\n",
       "    <tr>\n",
       "      <th>2025-03-23</th>\n",
       "      <td>30</td>\n",
       "      <td>Fear</td>\n",
       "    </tr>\n",
       "    <tr>\n",
       "      <th>2025-03-24</th>\n",
       "      <td>45</td>\n",
       "      <td>Fear</td>\n",
       "    </tr>\n",
       "    <tr>\n",
       "      <th>2025-03-25</th>\n",
       "      <td>46</td>\n",
       "      <td>Fear</td>\n",
       "    </tr>\n",
       "  </tbody>\n",
       "</table>\n",
       "<p>1097 rows × 2 columns</p>\n",
       "</div>"
      ],
      "text/plain": [
       "            index_value sentiment\n",
       "date                             \n",
       "2022-03-24           40      Fear\n",
       "2022-03-25           47   Neutral\n",
       "2022-03-26           51   Neutral\n",
       "2022-03-27           49   Neutral\n",
       "2022-03-28           60     Greed\n",
       "...                 ...       ...\n",
       "2025-03-21           31      Fear\n",
       "2025-03-22           32      Fear\n",
       "2025-03-23           30      Fear\n",
       "2025-03-24           45      Fear\n",
       "2025-03-25           46      Fear\n",
       "\n",
       "[1097 rows x 2 columns]"
      ]
     },
     "execution_count": 12,
     "metadata": {},
     "output_type": "execute_result"
    }
   ],
   "source": [
    "fear_greed = pd.read_csv(\"data/raw/fear_greed_index.csv\")\n",
    "\n",
    "fear_greed = fear_greed.drop(columns=[\"time_until_update\"]) # unnecessary column\n",
    "fear_greed[\"date\"] = pd.to_datetime(fear_greed[\"date\"])\n",
    "fear_greed = fear_greed.set_index(\"date\").sort_index()\n",
    "fear_greed"
   ]
  },
  {
   "cell_type": "markdown",
   "metadata": {},
   "source": [
    "## 6. Gold Prices"
   ]
  },
  {
   "cell_type": "code",
   "execution_count": 13,
   "metadata": {},
   "outputs": [
    {
     "name": "stderr",
     "output_type": "stream",
     "text": [
      "C:\\Users\\Ryan Lee\\AppData\\Local\\Temp\\ipykernel_14524\\963842659.py:2: UserWarning: Could not infer format, so each element will be parsed individually, falling back to `dateutil`. To ensure parsing is consistent and as-expected, please specify a format.\n",
      "  gold[\"date\"] = pd.to_datetime(gold[\"date\"], dayfirst=True)\n"
     ]
    },
    {
     "data": {
      "text/plain": [
       "date\n",
       "1978-01-31      207.8\n",
       "1978-02-28      227.3\n",
       "1978-03-31      245.7\n",
       "1978-04-28      242.1\n",
       "1978-05-31      239.2\n",
       "               ...   \n",
       "2024-10-31    2,690.1\n",
       "2024-11-29    2,650.7\n",
       "2024-12-31    2,644.1\n",
       "2025-01-31    2,709.7\n",
       "2025-02-28    2,894.7\n",
       "Name: USD, Length: 566, dtype: object"
      ]
     },
     "execution_count": 13,
     "metadata": {},
     "output_type": "execute_result"
    }
   ],
   "source": [
    "gold = pd.read_csv(\"data/raw/Gold_price_averages_monthly.csv\")\n",
    "gold[\"date\"] = pd.to_datetime(gold[\"date\"], dayfirst=True)\n",
    "gold = gold.set_index(\"date\").sort_index()\n",
    "gold = gold[\"USD\"] # Looking at USD is sufficient (also no missing values)\n",
    "gold"
   ]
  },
  {
   "cell_type": "code",
   "execution_count": 14,
   "metadata": {},
   "outputs": [
    {
     "data": {
      "text/plain": [
       "dtype('O')"
      ]
     },
     "execution_count": 14,
     "metadata": {},
     "output_type": "execute_result"
    }
   ],
   "source": [
    "# USD column being read as object as dataset contains some values wrapped in quotation marks\n",
    "# e.g. \"1,279.0\"\n",
    "gold.dtype"
   ]
  },
  {
   "cell_type": "code",
   "execution_count": 15,
   "metadata": {},
   "outputs": [
    {
     "data": {
      "text/plain": [
       "dtype('float64')"
      ]
     },
     "execution_count": 15,
     "metadata": {},
     "output_type": "execute_result"
    }
   ],
   "source": [
    "# Clean strings (remove quotation marks) and convert\n",
    "gold = gold.str.replace('\"', '').str.replace(\",\", \"\").astype(float)\n",
    "gold.dtype"
   ]
  },
  {
   "cell_type": "markdown",
   "metadata": {},
   "source": [
    "## X. Combine\n",
    "WIP"
   ]
  },
  {
   "cell_type": "markdown",
   "metadata": {},
   "source": [
    "S&P500 and Treasury Constant Maturity Spread data do not have entries for certain dates. We will first align the data to the OHLC dates, and then forward-fill values for those missing dates."
   ]
  },
  {
   "cell_type": "code",
   "execution_count": 16,
   "metadata": {},
   "outputs": [],
   "source": [
    "# Align data to OHLC dates and forward-fill\n",
    "sp500_filled = sp500.reindex(ohlc.index).ffill()\n",
    "treasury_filled = treasury.reindex(ohlc.index).ffill()\n",
    "fear_greed_filled = fear_greed.reindex(ohlc.index).ffill()"
   ]
  },
  {
   "cell_type": "markdown",
   "metadata": {},
   "source": [
    "Additional processing needed for gold price feature: need to forward fill from cut off data"
   ]
  },
  {
   "cell_type": "code",
   "execution_count": 17,
   "metadata": {},
   "outputs": [],
   "source": [
    "# Get the start date of your OHLC data\n",
    "ohlc_start_date = ohlc.index.min()\n",
    "\n",
    "# Find the last gold price BEFORE ohlc_start_date\n",
    "last_gold_before_ohlc = gold[gold.index < ohlc_start_date].iloc[-1]  # Last row\n",
    "\n",
    "# Add this value to gold data (to ensure forward-fill catches it)\n",
    "gold_prefilled = gold.copy()\n",
    "gold_prefilled.loc[ohlc_start_date - pd.Timedelta(days=1)] = last_gold_before_ohlc  # Add 1 day before OHLC starts\n",
    "gold_prefilled = gold_prefilled.sort_index()\n",
    "\n",
    "# Reindex to OHLC dates and forward-fill (now includes pre-start value)\n",
    "gold_filled = gold_prefilled.reindex(ohlc.index, method=\"ffill\")"
   ]
  },
  {
   "cell_type": "code",
   "execution_count": 18,
   "metadata": {},
   "outputs": [
    {
     "data": {
      "text/plain": [
       "timestamp\n",
       "2022-03-24    1856.3\n",
       "2022-03-24    1856.3\n",
       "2022-03-24    1856.3\n",
       "2022-03-24    1856.3\n",
       "2022-03-24    1856.3\n",
       "               ...  \n",
       "2022-03-30    1856.3\n",
       "2022-03-30    1856.3\n",
       "2022-03-31    1947.8\n",
       "2022-03-31    1947.8\n",
       "2022-03-31    1947.8\n",
       "Name: USD, Length: 703, dtype: float64"
      ]
     },
     "execution_count": 18,
     "metadata": {},
     "output_type": "execute_result"
    }
   ],
   "source": [
    "gold_filled.head(703)"
   ]
  },
  {
   "cell_type": "code",
   "execution_count": 19,
   "metadata": {},
   "outputs": [
    {
     "data": {
      "text/html": [
       "<div>\n",
       "<style scoped>\n",
       "    .dataframe tbody tr th:only-of-type {\n",
       "        vertical-align: middle;\n",
       "    }\n",
       "\n",
       "    .dataframe tbody tr th {\n",
       "        vertical-align: top;\n",
       "    }\n",
       "\n",
       "    .dataframe thead th {\n",
       "        text-align: right;\n",
       "    }\n",
       "</style>\n",
       "<table border=\"1\" class=\"dataframe\">\n",
       "  <thead>\n",
       "    <tr style=\"text-align: right;\">\n",
       "      <th></th>\n",
       "      <th>symbol</th>\n",
       "      <th>open</th>\n",
       "      <th>high</th>\n",
       "      <th>low</th>\n",
       "      <th>close</th>\n",
       "      <th>volume</th>\n",
       "      <th>market_cap</th>\n",
       "      <th>daily_return</th>\n",
       "      <th>sp500</th>\n",
       "      <th>treasury_spread</th>\n",
       "      <th>fear_greed</th>\n",
       "      <th>gold_price_usd</th>\n",
       "    </tr>\n",
       "    <tr>\n",
       "      <th>date</th>\n",
       "      <th></th>\n",
       "      <th></th>\n",
       "      <th></th>\n",
       "      <th></th>\n",
       "      <th></th>\n",
       "      <th></th>\n",
       "      <th></th>\n",
       "      <th></th>\n",
       "      <th></th>\n",
       "      <th></th>\n",
       "      <th></th>\n",
       "      <th></th>\n",
       "    </tr>\n",
       "  </thead>\n",
       "  <tbody>\n",
       "    <tr>\n",
       "      <th>2022-03-24</th>\n",
       "      <td>BTC/USDT</td>\n",
       "      <td>42882.7600</td>\n",
       "      <td>44220.8900</td>\n",
       "      <td>42560.4600</td>\n",
       "      <td>43991.4600</td>\n",
       "      <td>5.619512e+04</td>\n",
       "      <td>2.472106e+09</td>\n",
       "      <td>0.007313</td>\n",
       "      <td>4520.16</td>\n",
       "      <td>0.21</td>\n",
       "      <td>40.0</td>\n",
       "      <td>1856.3</td>\n",
       "    </tr>\n",
       "    <tr>\n",
       "      <th>2022-03-24</th>\n",
       "      <td>BNB/USDT</td>\n",
       "      <td>408.4000</td>\n",
       "      <td>416.6000</td>\n",
       "      <td>405.0000</td>\n",
       "      <td>414.2000</td>\n",
       "      <td>5.983661e+05</td>\n",
       "      <td>2.478432e+08</td>\n",
       "      <td>-0.009416</td>\n",
       "      <td>4520.16</td>\n",
       "      <td>0.21</td>\n",
       "      <td>40.0</td>\n",
       "      <td>1856.3</td>\n",
       "    </tr>\n",
       "    <tr>\n",
       "      <th>2022-03-24</th>\n",
       "      <td>CHR/USDT</td>\n",
       "      <td>0.4699</td>\n",
       "      <td>0.4906</td>\n",
       "      <td>0.4510</td>\n",
       "      <td>0.4756</td>\n",
       "      <td>4.414470e+07</td>\n",
       "      <td>2.099522e+07</td>\n",
       "      <td>-0.038267</td>\n",
       "      <td>4520.16</td>\n",
       "      <td>0.21</td>\n",
       "      <td>40.0</td>\n",
       "      <td>1856.3</td>\n",
       "    </tr>\n",
       "    <tr>\n",
       "      <th>2022-03-24</th>\n",
       "      <td>HIVE/USDT</td>\n",
       "      <td>0.9443</td>\n",
       "      <td>1.0248</td>\n",
       "      <td>0.9396</td>\n",
       "      <td>1.0248</td>\n",
       "      <td>4.736850e+06</td>\n",
       "      <td>4.854324e+06</td>\n",
       "      <td>-0.021370</td>\n",
       "      <td>4520.16</td>\n",
       "      <td>0.21</td>\n",
       "      <td>40.0</td>\n",
       "      <td>1856.3</td>\n",
       "    </tr>\n",
       "    <tr>\n",
       "      <th>2022-03-24</th>\n",
       "      <td>CTSI/USDT</td>\n",
       "      <td>0.3824</td>\n",
       "      <td>0.3915</td>\n",
       "      <td>0.3724</td>\n",
       "      <td>0.3890</td>\n",
       "      <td>1.173377e+07</td>\n",
       "      <td>4.564435e+06</td>\n",
       "      <td>-0.064267</td>\n",
       "      <td>4520.16</td>\n",
       "      <td>0.21</td>\n",
       "      <td>40.0</td>\n",
       "      <td>1856.3</td>\n",
       "    </tr>\n",
       "  </tbody>\n",
       "</table>\n",
       "</div>"
      ],
      "text/plain": [
       "               symbol        open        high         low       close  \\\n",
       "date                                                                    \n",
       "2022-03-24   BTC/USDT  42882.7600  44220.8900  42560.4600  43991.4600   \n",
       "2022-03-24   BNB/USDT    408.4000    416.6000    405.0000    414.2000   \n",
       "2022-03-24   CHR/USDT      0.4699      0.4906      0.4510      0.4756   \n",
       "2022-03-24  HIVE/USDT      0.9443      1.0248      0.9396      1.0248   \n",
       "2022-03-24  CTSI/USDT      0.3824      0.3915      0.3724      0.3890   \n",
       "\n",
       "                  volume    market_cap  daily_return    sp500  \\\n",
       "date                                                            \n",
       "2022-03-24  5.619512e+04  2.472106e+09      0.007313  4520.16   \n",
       "2022-03-24  5.983661e+05  2.478432e+08     -0.009416  4520.16   \n",
       "2022-03-24  4.414470e+07  2.099522e+07     -0.038267  4520.16   \n",
       "2022-03-24  4.736850e+06  4.854324e+06     -0.021370  4520.16   \n",
       "2022-03-24  1.173377e+07  4.564435e+06     -0.064267  4520.16   \n",
       "\n",
       "            treasury_spread  fear_greed  gold_price_usd  \n",
       "date                                                     \n",
       "2022-03-24             0.21        40.0          1856.3  \n",
       "2022-03-24             0.21        40.0          1856.3  \n",
       "2022-03-24             0.21        40.0          1856.3  \n",
       "2022-03-24             0.21        40.0          1856.3  \n",
       "2022-03-24             0.21        40.0          1856.3  "
      ]
     },
     "execution_count": 19,
     "metadata": {},
     "output_type": "execute_result"
    }
   ],
   "source": [
    "combined = pd.concat([\n",
    "    ohlc,\n",
    "    crypto[['market_cap', 'daily_return']],\n",
    "    sp500_filled.rename('sp500'),\n",
    "    treasury_filled.rename('treasury_spread'),\n",
    "    fear_greed_filled[['index_value']].rename(columns={'index_value': 'fear_greed'}),\n",
    "    gold_filled.rename('gold_price_usd')\n",
    "], axis=1)\n",
    "\n",
    "combined.index.name = 'date'\n",
    "combined.head()"
   ]
  },
  {
   "cell_type": "code",
   "execution_count": 20,
   "metadata": {},
   "outputs": [
    {
     "data": {
      "text/html": [
       "<div>\n",
       "<style scoped>\n",
       "    .dataframe tbody tr th:only-of-type {\n",
       "        vertical-align: middle;\n",
       "    }\n",
       "\n",
       "    .dataframe tbody tr th {\n",
       "        vertical-align: top;\n",
       "    }\n",
       "\n",
       "    .dataframe thead th {\n",
       "        text-align: right;\n",
       "    }\n",
       "</style>\n",
       "<table border=\"1\" class=\"dataframe\">\n",
       "  <thead>\n",
       "    <tr style=\"text-align: right;\">\n",
       "      <th></th>\n",
       "      <th>symbol</th>\n",
       "      <th>open</th>\n",
       "      <th>high</th>\n",
       "      <th>low</th>\n",
       "      <th>close</th>\n",
       "      <th>volume</th>\n",
       "      <th>market_cap</th>\n",
       "      <th>daily_return</th>\n",
       "      <th>sp500</th>\n",
       "      <th>treasury_spread</th>\n",
       "      <th>fear_greed</th>\n",
       "      <th>gold_price_usd</th>\n",
       "    </tr>\n",
       "    <tr>\n",
       "      <th>date</th>\n",
       "      <th></th>\n",
       "      <th></th>\n",
       "      <th></th>\n",
       "      <th></th>\n",
       "      <th></th>\n",
       "      <th></th>\n",
       "      <th></th>\n",
       "      <th></th>\n",
       "      <th></th>\n",
       "      <th></th>\n",
       "      <th></th>\n",
       "      <th></th>\n",
       "    </tr>\n",
       "  </thead>\n",
       "  <tbody>\n",
       "    <tr>\n",
       "      <th>2022-03-24</th>\n",
       "      <td>ADA/USDT</td>\n",
       "      <td>1.108</td>\n",
       "      <td>1.190</td>\n",
       "      <td>1.076</td>\n",
       "      <td>1.131</td>\n",
       "      <td>390982460.0</td>\n",
       "      <td>4.422012e+08</td>\n",
       "      <td>-0.030946</td>\n",
       "      <td>4520.16</td>\n",
       "      <td>0.21</td>\n",
       "      <td>40.0</td>\n",
       "      <td>1856.3</td>\n",
       "    </tr>\n",
       "    <tr>\n",
       "      <th>2022-03-25</th>\n",
       "      <td>ADA/USDT</td>\n",
       "      <td>1.130</td>\n",
       "      <td>1.167</td>\n",
       "      <td>1.072</td>\n",
       "      <td>1.096</td>\n",
       "      <td>290456883.7</td>\n",
       "      <td>3.183407e+08</td>\n",
       "      <td>-0.030946</td>\n",
       "      <td>4543.06</td>\n",
       "      <td>0.18</td>\n",
       "      <td>47.0</td>\n",
       "      <td>1856.3</td>\n",
       "    </tr>\n",
       "    <tr>\n",
       "      <th>2022-03-26</th>\n",
       "      <td>ADA/USDT</td>\n",
       "      <td>1.096</td>\n",
       "      <td>1.160</td>\n",
       "      <td>1.079</td>\n",
       "      <td>1.152</td>\n",
       "      <td>143117986.1</td>\n",
       "      <td>1.648719e+08</td>\n",
       "      <td>0.051095</td>\n",
       "      <td>4543.06</td>\n",
       "      <td>0.18</td>\n",
       "      <td>51.0</td>\n",
       "      <td>1856.3</td>\n",
       "    </tr>\n",
       "    <tr>\n",
       "      <th>2022-03-27</th>\n",
       "      <td>ADA/USDT</td>\n",
       "      <td>1.152</td>\n",
       "      <td>1.186</td>\n",
       "      <td>1.104</td>\n",
       "      <td>1.184</td>\n",
       "      <td>135043361.8</td>\n",
       "      <td>1.598913e+08</td>\n",
       "      <td>0.027778</td>\n",
       "      <td>4543.06</td>\n",
       "      <td>0.18</td>\n",
       "      <td>49.0</td>\n",
       "      <td>1856.3</td>\n",
       "    </tr>\n",
       "    <tr>\n",
       "      <th>2022-03-28</th>\n",
       "      <td>ADA/USDT</td>\n",
       "      <td>1.184</td>\n",
       "      <td>1.246</td>\n",
       "      <td>1.157</td>\n",
       "      <td>1.170</td>\n",
       "      <td>261105698.6</td>\n",
       "      <td>3.054937e+08</td>\n",
       "      <td>-0.011824</td>\n",
       "      <td>4575.52</td>\n",
       "      <td>0.11</td>\n",
       "      <td>60.0</td>\n",
       "      <td>1856.3</td>\n",
       "    </tr>\n",
       "  </tbody>\n",
       "</table>\n",
       "</div>"
      ],
      "text/plain": [
       "              symbol   open   high    low  close       volume    market_cap  \\\n",
       "date                                                                          \n",
       "2022-03-24  ADA/USDT  1.108  1.190  1.076  1.131  390982460.0  4.422012e+08   \n",
       "2022-03-25  ADA/USDT  1.130  1.167  1.072  1.096  290456883.7  3.183407e+08   \n",
       "2022-03-26  ADA/USDT  1.096  1.160  1.079  1.152  143117986.1  1.648719e+08   \n",
       "2022-03-27  ADA/USDT  1.152  1.186  1.104  1.184  135043361.8  1.598913e+08   \n",
       "2022-03-28  ADA/USDT  1.184  1.246  1.157  1.170  261105698.6  3.054937e+08   \n",
       "\n",
       "            daily_return    sp500  treasury_spread  fear_greed  gold_price_usd  \n",
       "date                                                                            \n",
       "2022-03-24     -0.030946  4520.16             0.21        40.0          1856.3  \n",
       "2022-03-25     -0.030946  4543.06             0.18        47.0          1856.3  \n",
       "2022-03-26      0.051095  4543.06             0.18        51.0          1856.3  \n",
       "2022-03-27      0.027778  4543.06             0.18        49.0          1856.3  \n",
       "2022-03-28     -0.011824  4575.52             0.11        60.0          1856.3  "
      ]
     },
     "execution_count": 20,
     "metadata": {},
     "output_type": "execute_result"
    }
   ],
   "source": [
    "# Optional step: reorganize dataset (sort by symbol, then date index)\n",
    "combined = combined.iloc[combined.reset_index().sort_values(by=[\"symbol\", \"date\"]).index]\n",
    "combined.head()"
   ]
  },
  {
   "cell_type": "code",
   "execution_count": 21,
   "metadata": {},
   "outputs": [],
   "source": [
    "# Save combined dataset\n",
    "combined.to_csv(\"data/processed/combined_dataset_v1.csv\")"
   ]
  }
 ],
 "metadata": {
  "kernelspec": {
   "display_name": "term6",
   "language": "python",
   "name": "python3"
  },
  "language_info": {
   "codemirror_mode": {
    "name": "ipython",
    "version": 3
   },
   "file_extension": ".py",
   "mimetype": "text/x-python",
   "name": "python",
   "nbconvert_exporter": "python",
   "pygments_lexer": "ipython3",
   "version": "3.12.8"
  }
 },
 "nbformat": 4,
 "nbformat_minor": 2
}
