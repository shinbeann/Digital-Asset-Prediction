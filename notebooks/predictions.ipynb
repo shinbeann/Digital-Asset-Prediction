{
 "cells": [
  {
   "cell_type": "code",
   "execution_count": 26,
   "metadata": {},
   "outputs": [],
   "source": [
    "import pandas as pd\n",
    "from torchsummary import summary\n",
    "import random\n",
    "import sys \n",
    "import os\n",
    "import numpy as np\n",
    "import torch\n",
    "from torch.utils.data import DataLoader, random_split\n",
    "import torch.optim as optim"
   ]
  },
  {
   "cell_type": "code",
   "execution_count": 27,
   "metadata": {},
   "outputs": [
    {
     "data": {
      "text/plain": [
       "'/Users/aishwaryaiyer/Documents'"
      ]
     },
     "execution_count": 27,
     "metadata": {},
     "output_type": "execute_result"
    }
   ],
   "source": [
    "# Get the project directory \n",
    "current_dir = os.path.abspath('') # Current '\\notebooks' directory\n",
    "project_dir = os.path.abspath(os.path.join(current_dir, '..')) # Move up one level to project root directory\n",
    "\n",
    "# Add the project directory to sys.path\n",
    "sys.path.append(project_dir)\n",
    "\n",
    "# Move up to project directory\n",
    "os.chdir(project_dir)\n",
    "os.getcwd()"
   ]
  },
  {
   "cell_type": "code",
   "execution_count": 28,
   "metadata": {},
   "outputs": [],
   "source": [
    "from src.models import *\n",
    "from src.dataset import *\n",
    "\n"
   ]
  },
  {
   "cell_type": "code",
   "execution_count": 29,
   "metadata": {},
   "outputs": [],
   "source": [
    "transformer_model_path = \"/Users/aishwaryaiyer/Documents/GitHub/Digital-Asset-Prediction/saved_models/CryptoTransformer_2025-04-09_21-31-23/CryptoTransformer_BEST_R2.pth\"\n",
    "informer_model_path = \"/Users/aishwaryaiyer/Documents/GitHub/Digital-Asset-Prediction/saved_models/CryptoInformer_2025-04-10_15-11-19/CryptoInformer_BEST_R2.pth\""
   ]
  },
  {
   "cell_type": "code",
   "execution_count": 30,
   "metadata": {},
   "outputs": [],
   "source": [
    "transformer_model = CryptoTransformer()  \n",
    "informer_model = CryptoInformer()\n"
   ]
  },
  {
   "cell_type": "code",
   "execution_count": 31,
   "metadata": {},
   "outputs": [
    {
     "name": "stderr",
     "output_type": "stream",
     "text": [
      "/var/folders/vr/qwxtvrr17fn2qzlm0z4rq4br0000gn/T/ipykernel_72818/2746541776.py:1: FutureWarning: You are using `torch.load` with `weights_only=False` (the current default value), which uses the default pickle module implicitly. It is possible to construct malicious pickle data which will execute arbitrary code during unpickling (See https://github.com/pytorch/pytorch/blob/main/SECURITY.md#untrusted-models for more details). In a future release, the default value for `weights_only` will be flipped to `True`. This limits the functions that could be executed during unpickling. Arbitrary objects will no longer be allowed to be loaded via this mode unless they are explicitly allowlisted by the user via `torch.serialization.add_safe_globals`. We recommend you start setting `weights_only=True` for any use case where you don't have full control of the loaded file. Please open an issue on GitHub for any issues related to this experimental feature.\n",
      "  transformer_model.load_state_dict(torch.load(transformer_model_path, map_location=torch.device('cpu')))\n",
      "/var/folders/vr/qwxtvrr17fn2qzlm0z4rq4br0000gn/T/ipykernel_72818/2746541776.py:2: FutureWarning: You are using `torch.load` with `weights_only=False` (the current default value), which uses the default pickle module implicitly. It is possible to construct malicious pickle data which will execute arbitrary code during unpickling (See https://github.com/pytorch/pytorch/blob/main/SECURITY.md#untrusted-models for more details). In a future release, the default value for `weights_only` will be flipped to `True`. This limits the functions that could be executed during unpickling. Arbitrary objects will no longer be allowed to be loaded via this mode unless they are explicitly allowlisted by the user via `torch.serialization.add_safe_globals`. We recommend you start setting `weights_only=True` for any use case where you don't have full control of the loaded file. Please open an issue on GitHub for any issues related to this experimental feature.\n",
      "  informer_model.load_state_dict(torch.load(informer_model_path, map_location=torch.device('cpu')))\n"
     ]
    },
    {
     "data": {
      "text/plain": [
       "CryptoInformer(\n",
       "  (embedding): Linear(in_features=11, out_features=64, bias=True)\n",
       "  (positional_encoder): SinusoidalPositionalEncoding(\n",
       "    (dropout): Dropout(p=0.1, inplace=False)\n",
       "  )\n",
       "  (attn): ProbAttention(\n",
       "    (dropout): Dropout(p=0.1, inplace=False)\n",
       "  )\n",
       "  (encoder_layers): ModuleList(\n",
       "    (0-1): 2 x EncoderLayer(\n",
       "      (attention): AttentionLayer(\n",
       "        (inner_attention): ProbAttention(\n",
       "          (dropout): Dropout(p=0.1, inplace=False)\n",
       "        )\n",
       "        (query_projection): Linear(in_features=64, out_features=64, bias=True)\n",
       "        (key_projection): Linear(in_features=64, out_features=64, bias=True)\n",
       "        (value_projection): Linear(in_features=64, out_features=64, bias=True)\n",
       "        (out_projection): Linear(in_features=64, out_features=64, bias=True)\n",
       "      )\n",
       "      (conv1): Conv1d(64, 256, kernel_size=(1,), stride=(1,))\n",
       "      (conv2): Conv1d(256, 64, kernel_size=(1,), stride=(1,))\n",
       "      (norm1): LayerNorm((64,), eps=1e-05, elementwise_affine=True)\n",
       "      (norm2): LayerNorm((64,), eps=1e-05, elementwise_affine=True)\n",
       "      (dropout): Dropout(p=0.1, inplace=False)\n",
       "    )\n",
       "  )\n",
       "  (fc): Sequential(\n",
       "    (0): Linear(in_features=64, out_features=32, bias=True)\n",
       "    (1): ReLU()\n",
       "    (2): Dropout(p=0.1, inplace=False)\n",
       "    (3): Linear(in_features=32, out_features=1, bias=True)\n",
       "  )\n",
       ")"
      ]
     },
     "execution_count": 31,
     "metadata": {},
     "output_type": "execute_result"
    }
   ],
   "source": [
    "transformer_model.load_state_dict(torch.load(transformer_model_path, map_location=torch.device('cpu')))\n",
    "informer_model.load_state_dict(torch.load(informer_model_path, map_location=torch.device('cpu')))\n",
    "\n",
    "transformer_model.eval()\n",
    "informer_model.eval()"
   ]
  },
  {
   "cell_type": "code",
   "execution_count": null,
   "metadata": {},
   "outputs": [],
   "source": []
  },
  {
   "cell_type": "code",
   "execution_count": 32,
   "metadata": {},
   "outputs": [],
   "source": [
    "class CryptoDataset(Dataset):\n",
    "    def __init__(self, data: pd.DataFrame, features: list, target: str = None, sequence_length: int = 14):\n",
    "        self.data = data[features].values\n",
    "        self.target = data[target].values if target else None\n",
    "        self.sequence_length = sequence_length\n",
    "        \n",
    "    def __len__(self):\n",
    "        # Return 1 since we just want the full sequence for prediction\n",
    "        return 1 if len(self.data) == self.sequence_length else len(self.data) - self.sequence_length\n",
    "        \n",
    "    def __getitem__(self, idx) -> Tuple[torch.Tensor, torch.Tensor]:\n",
    "        seq = self.data[idx:idx+self.sequence_length]\n",
    "        if self.target is not None and (idx + self.sequence_length) < len(self.data):\n",
    "            target = self.target[idx+self.sequence_length]\n",
    "            return torch.FloatTensor(seq), torch.FloatTensor([target])\n",
    "        return torch.FloatTensor(seq), torch.FloatTensor([0])  # Dummy target for prediction"
   ]
  },
  {
   "cell_type": "code",
   "execution_count": 33,
   "metadata": {},
   "outputs": [],
   "source": [
    "features = ['open', 'high', 'low', 'close', 'volume', 'market_cap', \n",
    "            'daily_return', 'sp500', 'treasury_spread', 'fear_greed', 'gold_price_usd']\n",
    "target = 'close'\n",
    "\n",
    "# Create a single sequence dataset\n",
    "dataset = CryptoDataset(ticker_data, features, target)\n",
    "seq, _ = dataset[0]  # Get our 14-day sequence (shape: [14, num_features])\n"
   ]
  },
  {
   "cell_type": "code",
   "execution_count": 34,
   "metadata": {},
   "outputs": [],
   "source": [
    "def predict_ticker(ticker_data, model, model_name):\n",
    "    dataset = CryptoDataset(ticker_data, features, target=None)\n",
    "    seq, _ = dataset[0]\n",
    "    \n",
    "    with torch.no_grad():\n",
    "        input_seq = seq.unsqueeze(0)\n",
    "        normalizer = Normalizer()\n",
    "        normalizer.fit(input_seq)\n",
    "        pred = model(input_seq)\n",
    "        \n",
    "    return pred.item()"
   ]
  },
  {
   "cell_type": "code",
   "execution_count": 35,
   "metadata": {},
   "outputs": [
    {
     "name": "stdout",
     "output_type": "stream",
     "text": [
      "\n",
      "Predictions saved to: predictions.csv\n",
      "\n",
      "Summary Statistics:\n",
      "       Transformer_Error_Pct  Informer_Error_Pct\n",
      "count           2.000000e+01        2.000000e+01\n",
      "mean            1.867799e+05        5.945227e+05\n",
      "std             3.892810e+05        1.223386e+06\n",
      "min             8.485883e+01        2.748114e+01\n",
      "25%             1.662873e+03        6.092868e+03\n",
      "50%             5.174402e+03        1.754093e+04\n",
      "75%             1.162963e+05        3.780090e+05\n",
      "max             1.481523e+06        4.571896e+06\n",
      "\n",
      "Sample Predictions:\n",
      "      Ticker  Last_Close  Transformer_Pred  Informer_Pred  Transformer_Diff  \\\n",
      "0   STX/USDT    0.685000        -10.865082      42.866081         11.550082   \n",
      "1  DOGE/USDT    0.183000        -11.994514      40.923820         12.177514   \n",
      "2  TROY/USDT    0.001277        -12.171100      39.731094         12.172377   \n",
      "3   FUN/USDT    0.002370        -12.172416      39.173653         12.174786   \n",
      "4  DUSK/USDT    0.096300        -12.075022      39.541847         12.171322   \n",
      "\n",
      "   Informer_Diff  Transformer_Error_Pct  Informer_Error_Pct  \n",
      "0      42.181081            1686.143327        6.157822e+03  \n",
      "1      40.740820            6654.379489        2.226274e+04  \n",
      "2      39.729817          953200.991604        3.111184e+06  \n",
      "3      39.171283          513704.039381        1.652797e+06  \n",
      "4      39.445547           12638.963389        4.096111e+04  \n"
     ]
    }
   ],
   "source": [
    "all_tickers = df['symbol'].unique()\n",
    "selected_tickers = np.random.choice(all_tickers, size=20, replace=False)\n",
    "\n",
    "# Prepare results DataFrame\n",
    "results = pd.DataFrame(columns=[\n",
    "    'Ticker', \n",
    "    'Last_Close', \n",
    "    'Transformer_Pred', \n",
    "    'Informer_Pred',\n",
    "    'Transformer_Diff',\n",
    "    'Informer_Diff'\n",
    "])\n",
    "\n",
    "# Get predictions for each ticker\n",
    "for ticker in selected_tickers:\n",
    "    ticker_data = df[df['symbol'] == ticker].tail(14)\n",
    "    \n",
    "    if len(ticker_data) < 14:\n",
    "        continue  # Skip if not enough data\n",
    "        \n",
    "    last_close = ticker_data['close'].iloc[-1]\n",
    "    \n",
    "    transformer_pred = predict_ticker(ticker_data, transformer_model, \"Transformer\")\n",
    "    informer_pred = predict_ticker(ticker_data, informer_model, \"Informer\")\n",
    "    \n",
    "    # Calculate absolute differences\n",
    "    transformer_diff = abs(transformer_pred - last_close)\n",
    "    informer_diff = abs(informer_pred - last_close)\n",
    "    \n",
    "    # Add to results\n",
    "    results.loc[len(results)] = {\n",
    "        'Ticker': ticker,\n",
    "        'Last_Close': last_close,\n",
    "        'Transformer_Pred': transformer_pred,\n",
    "        'Informer_Pred': informer_pred,\n",
    "        'Transformer_Diff': transformer_diff,\n",
    "        'Informer_Diff': informer_diff\n",
    "    }\n",
    "\n",
    "# Calculate some statistics\n",
    "results['Transformer_Error_Pct'] = (results['Transformer_Diff'] / results['Last_Close']) * 100\n",
    "results['Informer_Error_Pct'] = (results['Informer_Diff'] / results['Last_Close']) * 100\n",
    "\n",
    "# Save to CSV\n",
    "output_path = \"predictions.csv\"\n",
    "results.to_csv(output_path, index=False)\n",
    "\n",
    "print(f\"\\nPredictions saved to: {output_path}\")\n",
    "print(\"\\nSummary Statistics:\")\n",
    "print(results[['Transformer_Error_Pct', 'Informer_Error_Pct']].describe())\n",
    "\n",
    "# Display first few results\n",
    "print(\"\\nSample Predictions:\")\n",
    "print(results.head())"
   ]
  }
 ],
 "metadata": {
  "kernelspec": {
   "display_name": "Python 3",
   "language": "python",
   "name": "python3"
  },
  "language_info": {
   "codemirror_mode": {
    "name": "ipython",
    "version": 3
   },
   "file_extension": ".py",
   "mimetype": "text/x-python",
   "name": "python",
   "nbconvert_exporter": "python",
   "pygments_lexer": "ipython3",
   "version": "3.11.5"
  }
 },
 "nbformat": 4,
 "nbformat_minor": 2
}
