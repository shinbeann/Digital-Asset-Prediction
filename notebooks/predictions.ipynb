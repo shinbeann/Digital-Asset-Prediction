{
 "cells": [
  {
   "cell_type": "code",
   "execution_count": 50,
   "metadata": {},
   "outputs": [],
   "source": [
    "import pandas\n",
    "from torchsummary import summary\n",
    "import random\n",
    "import sys \n",
    "import os\n",
    "import numpy as np\n",
    "import torch\n",
    "from torch.utils.data import DataLoader, random_split\n",
    "import torch.optim as optim"
   ]
  },
  {
   "cell_type": "code",
   "execution_count": 71,
   "metadata": {},
   "outputs": [
    {
     "data": {
      "text/plain": [
       "'/Users/aishwaryaiyer'"
      ]
     },
     "execution_count": 71,
     "metadata": {},
     "output_type": "execute_result"
    }
   ],
   "source": [
    "# Get the project directory \n",
    "current_dir = os.path.abspath('') # Current '\\notebooks' directory\n",
    "project_dir = os.path.abspath(os.path.join(current_dir, '..')) # Move up one level to project root directory\n",
    "\n",
    "# Add the project directory to sys.path\n",
    "sys.path.append(project_dir)\n",
    "\n",
    "# Move up to project directory\n",
    "os.chdir(project_dir)\n",
    "os.getcwd()"
   ]
  },
  {
   "cell_type": "code",
   "execution_count": 72,
   "metadata": {},
   "outputs": [],
   "source": [
    "from src.models import *\n",
    "\n"
   ]
  },
  {
   "cell_type": "code",
   "execution_count": 73,
   "metadata": {},
   "outputs": [],
   "source": [
    "transformer_model_path = \"/Users/aishwaryaiyer/Documents/GitHub/Digital-Asset-Prediction/saved_models/CryptoTransformer_2025-04-09_21-31-23/CryptoTransformer_BEST_R2.pth\"\n",
    "informer_model_path = \"/Users/aishwaryaiyer/Documents/GitHub/Digital-Asset-Prediction/saved_models/CryptoInformer_2025-04-10_15-11-19/CryptoInformer_BEST_R2.pth\""
   ]
  },
  {
   "cell_type": "code",
   "execution_count": 74,
   "metadata": {},
   "outputs": [],
   "source": [
    "transformer_model = CryptoTransformer()  \n",
    "informer_model = CryptoInformer()\n"
   ]
  },
  {
   "cell_type": "code",
   "execution_count": 75,
   "metadata": {},
   "outputs": [
    {
     "name": "stderr",
     "output_type": "stream",
     "text": [
      "/var/folders/vr/qwxtvrr17fn2qzlm0z4rq4br0000gn/T/ipykernel_70435/2746541776.py:1: FutureWarning: You are using `torch.load` with `weights_only=False` (the current default value), which uses the default pickle module implicitly. It is possible to construct malicious pickle data which will execute arbitrary code during unpickling (See https://github.com/pytorch/pytorch/blob/main/SECURITY.md#untrusted-models for more details). In a future release, the default value for `weights_only` will be flipped to `True`. This limits the functions that could be executed during unpickling. Arbitrary objects will no longer be allowed to be loaded via this mode unless they are explicitly allowlisted by the user via `torch.serialization.add_safe_globals`. We recommend you start setting `weights_only=True` for any use case where you don't have full control of the loaded file. Please open an issue on GitHub for any issues related to this experimental feature.\n",
      "  transformer_model.load_state_dict(torch.load(transformer_model_path, map_location=torch.device('cpu')))\n",
      "/var/folders/vr/qwxtvrr17fn2qzlm0z4rq4br0000gn/T/ipykernel_70435/2746541776.py:2: FutureWarning: You are using `torch.load` with `weights_only=False` (the current default value), which uses the default pickle module implicitly. It is possible to construct malicious pickle data which will execute arbitrary code during unpickling (See https://github.com/pytorch/pytorch/blob/main/SECURITY.md#untrusted-models for more details). In a future release, the default value for `weights_only` will be flipped to `True`. This limits the functions that could be executed during unpickling. Arbitrary objects will no longer be allowed to be loaded via this mode unless they are explicitly allowlisted by the user via `torch.serialization.add_safe_globals`. We recommend you start setting `weights_only=True` for any use case where you don't have full control of the loaded file. Please open an issue on GitHub for any issues related to this experimental feature.\n",
      "  informer_model.load_state_dict(torch.load(informer_model_path, map_location=torch.device('cpu')))\n"
     ]
    },
    {
     "data": {
      "text/plain": [
       "CryptoInformer(\n",
       "  (embedding): Linear(in_features=11, out_features=64, bias=True)\n",
       "  (positional_encoder): SinusoidalPositionalEncoding(\n",
       "    (dropout): Dropout(p=0.1, inplace=False)\n",
       "  )\n",
       "  (attn): ProbAttention(\n",
       "    (dropout): Dropout(p=0.1, inplace=False)\n",
       "  )\n",
       "  (encoder_layers): ModuleList(\n",
       "    (0-1): 2 x EncoderLayer(\n",
       "      (attention): AttentionLayer(\n",
       "        (inner_attention): ProbAttention(\n",
       "          (dropout): Dropout(p=0.1, inplace=False)\n",
       "        )\n",
       "        (query_projection): Linear(in_features=64, out_features=64, bias=True)\n",
       "        (key_projection): Linear(in_features=64, out_features=64, bias=True)\n",
       "        (value_projection): Linear(in_features=64, out_features=64, bias=True)\n",
       "        (out_projection): Linear(in_features=64, out_features=64, bias=True)\n",
       "      )\n",
       "      (conv1): Conv1d(64, 256, kernel_size=(1,), stride=(1,))\n",
       "      (conv2): Conv1d(256, 64, kernel_size=(1,), stride=(1,))\n",
       "      (norm1): LayerNorm((64,), eps=1e-05, elementwise_affine=True)\n",
       "      (norm2): LayerNorm((64,), eps=1e-05, elementwise_affine=True)\n",
       "      (dropout): Dropout(p=0.1, inplace=False)\n",
       "    )\n",
       "  )\n",
       "  (fc): Sequential(\n",
       "    (0): Linear(in_features=64, out_features=32, bias=True)\n",
       "    (1): ReLU()\n",
       "    (2): Dropout(p=0.1, inplace=False)\n",
       "    (3): Linear(in_features=32, out_features=1, bias=True)\n",
       "  )\n",
       ")"
      ]
     },
     "execution_count": 75,
     "metadata": {},
     "output_type": "execute_result"
    }
   ],
   "source": [
    "transformer_model.load_state_dict(torch.load(transformer_model_path, map_location=torch.device('cpu')))\n",
    "informer_model.load_state_dict(torch.load(informer_model_path, map_location=torch.device('cpu')))\n",
    "\n",
    "transformer_model.eval()\n",
    "informer_model.eval()"
   ]
  },
  {
   "cell_type": "code",
   "execution_count": 77,
   "metadata": {},
   "outputs": [
    {
     "name": "stdout",
     "output_type": "stream",
     "text": [
      "Selected ticker: ALGO/USDT\n"
     ]
    }
   ],
   "source": [
    "CSV_PATH = \"/Users/aishwaryaiyer/Documents/GitHub/Digital-Asset-Prediction/data/processed/combined_dataset_v1.csv\"\n",
    "df = pd.read_csv(CSV_PATH, parse_dates=['date'])\n",
    "\n",
    "\n",
    "\n",
    "\n",
    "df.sort_values(['symbol', 'date'], inplace=True)\n",
    "\n",
    "# 1. Select a random crypto ticker\n",
    "all_tickers = df['symbol'].unique()\n",
    "random_ticker = np.random.choice(all_tickers)\n",
    "print(f\"Selected ticker: {random_ticker}\")\n",
    "\n",
    "# 2. Get the most recent 14 days of data for this ticker\n",
    "ticker_data = df[df['symbol'] == random_ticker].tail(14)"
   ]
  },
  {
   "cell_type": "code",
   "execution_count": 78,
   "metadata": {},
   "outputs": [],
   "source": [
    "class CryptoDataset(Dataset):\n",
    "    def __init__(self, data: pd.DataFrame, features: list, target: str = None, sequence_length: int = 14):\n",
    "        self.data = data[features].values\n",
    "        self.target = data[target].values if target else None\n",
    "        self.sequence_length = sequence_length\n",
    "        \n",
    "    def __len__(self):\n",
    "        # Return 1 since we just want the full sequence for prediction\n",
    "        return 1 if len(self.data) == self.sequence_length else len(self.data) - self.sequence_length\n",
    "        \n",
    "    def __getitem__(self, idx) -> Tuple[torch.Tensor, torch.Tensor]:\n",
    "        seq = self.data[idx:idx+self.sequence_length]\n",
    "        if self.target is not None and (idx + self.sequence_length) < len(self.data):\n",
    "            target = self.target[idx+self.sequence_length]\n",
    "            return torch.FloatTensor(seq), torch.FloatTensor([target])\n",
    "        return torch.FloatTensor(seq), torch.FloatTensor([0])  # Dummy target for prediction"
   ]
  },
  {
   "cell_type": "code",
   "execution_count": 79,
   "metadata": {},
   "outputs": [],
   "source": [
    "features = ['open', 'high', 'low', 'close', 'volume', 'market_cap', \n",
    "            'daily_return', 'sp500', 'treasury_spread', 'fear_greed', 'gold_price_usd']\n",
    "target = 'close'\n",
    "\n",
    "# Create a single sequence dataset\n",
    "dataset = CryptoDataset(ticker_data, features, target)\n",
    "seq, _ = dataset[0]  # Get our 14-day sequence (shape: [14, num_features])\n"
   ]
  },
  {
   "cell_type": "code",
   "execution_count": 87,
   "metadata": {},
   "outputs": [],
   "source": [
    "def predict_ticker(ticker_data, model, model_name):\n",
    "    dataset = CryptoDataset(ticker_data, features, target=None)\n",
    "    seq, _ = dataset[0]\n",
    "    \n",
    "    with torch.no_grad():\n",
    "        input_seq = seq.unsqueeze(0)\n",
    "        normalizer.fit(input_seq)\n",
    "        pred = model(input_seq)\n",
    "        \n",
    "    return pred.item()"
   ]
  },
  {
   "cell_type": "code",
   "execution_count": 91,
   "metadata": {},
   "outputs": [
    {
     "name": "stdout",
     "output_type": "stream",
     "text": [
      "\n",
      "Predictions saved to: predictions.csv\n",
      "\n",
      "Summary Statistics:\n",
      "       Transformer_Error_Pct  Informer_Error_Pct\n",
      "count           2.000000e+01        2.000000e+01\n",
      "mean            1.077036e+06        3.336484e+06\n",
      "std             4.451610e+06        1.372156e+07\n",
      "min             8.383273e+01        1.696007e+02\n",
      "25%             1.185869e+03        7.304357e+03\n",
      "50%             3.993379e+03        1.587803e+04\n",
      "75%             1.408060e+04        5.451039e+04\n",
      "max             1.996359e+07        6.154303e+07\n",
      "\n",
      "Sample Predictions:\n",
      "      Ticker  Last_Close  Transformer_Pred  Informer_Pred  Transformer_Diff  \\\n",
      "0   WIN/USDT    0.000061        -12.169744      37.516693         12.169805   \n",
      "1  MANA/USDT    0.279600        -11.053042      40.352673         11.332642   \n",
      "2   XLM/USDT    0.290700        -11.144263      40.420639         11.434963   \n",
      "3   ONG/USDT    0.224900        -11.470650      39.937958         11.695550   \n",
      "4   JST/USDT    0.030890        -12.129482      39.695839         12.160372   \n",
      "\n",
      "   Informer_Diff  Transformer_Error_Pct  Informer_Error_Pct  \n",
      "0      37.516632           1.996359e+07        6.154303e+07  \n",
      "1      40.073073           4.053163e+03        1.433229e+04  \n",
      "2      40.129939           3.933596e+03        1.380459e+04  \n",
      "3      39.713058           5.200333e+03        1.765810e+04  \n",
      "4      39.664949           3.936670e+04        1.284071e+05  \n"
     ]
    }
   ],
   "source": [
    "all_tickers = df['symbol'].unique()\n",
    "selected_tickers = np.random.choice(all_tickers, size=20, replace=False)\n",
    "\n",
    "# Prepare results DataFrame\n",
    "results = pd.DataFrame(columns=[\n",
    "    'Ticker', \n",
    "    'Last_Close', \n",
    "    'Transformer_Pred', \n",
    "    'Informer_Pred',\n",
    "    'Transformer_Diff',\n",
    "    'Informer_Diff'\n",
    "])\n",
    "\n",
    "# Get predictions for each ticker\n",
    "for ticker in selected_tickers:\n",
    "    ticker_data = df[df['symbol'] == ticker].tail(14)\n",
    "    \n",
    "    if len(ticker_data) < 14:\n",
    "        continue  # Skip if not enough data\n",
    "        \n",
    "    last_close = ticker_data['close'].iloc[-1]\n",
    "    \n",
    "    # Get predictions\n",
    "    transformer_pred = predict_ticker(ticker_data, transformer_model, \"Transformer\")\n",
    "    informer_pred = predict_ticker(ticker_data, informer_model, \"Informer\")\n",
    "    \n",
    "    # Calculate absolute differences\n",
    "    transformer_diff = abs(transformer_pred - last_close)\n",
    "    informer_diff = abs(informer_pred - last_close)\n",
    "    \n",
    "    # Add to results\n",
    "    results.loc[len(results)] = {\n",
    "        'Ticker': ticker,\n",
    "        'Last_Close': last_close,\n",
    "        'Transformer_Pred': transformer_pred,\n",
    "        'Informer_Pred': informer_pred,\n",
    "        'Transformer_Diff': transformer_diff,\n",
    "        'Informer_Diff': informer_diff\n",
    "    }\n",
    "\n",
    "# Calculate some statistics\n",
    "results['Transformer_Error_Pct'] = (results['Transformer_Diff'] / results['Last_Close']) * 100\n",
    "results['Informer_Error_Pct'] = (results['Informer_Diff'] / results['Last_Close']) * 100\n",
    "\n",
    "# Save to CSV\n",
    "output_path = \"predictions.csv\"\n",
    "results.to_csv(output_path, index=False)\n",
    "\n",
    "print(f\"\\nPredictions saved to: {output_path}\")\n",
    "print(\"\\nSummary Statistics:\")\n",
    "print(results[['Transformer_Error_Pct', 'Informer_Error_Pct']].describe())\n",
    "\n",
    "# Display first few results\n",
    "print(\"\\nSample Predictions:\")\n",
    "print(results.head())"
   ]
  },
  {
   "cell_type": "code",
   "execution_count": 92,
   "metadata": {},
   "outputs": [
    {
     "name": "stdout",
     "output_type": "stream",
     "text": [
      "\n",
      "Normalizer statistics:\n",
      "Means: 3010698.5\n",
      "Stddevs: 9415004.0\n",
      "\n",
      "Input scaling check - should be ~N(0,1):\n",
      "Mean: -0.32, Std: 0.00\n"
     ]
    }
   ],
   "source": [
    "# Check normalization stats\n",
    "print(\"\\nNormalizer statistics:\")\n",
    "print(f\"Means: {normalizer.mean}\")\n",
    "print(f\"Stddevs: {normalizer.std}\")\n",
    "\n",
    "# Check if predictions are normalized\n",
    "sample_input = torch.randn(1, 14, len(features))\n",
    "normalized = normalizer(sample_input)\n",
    "print(f\"\\nInput scaling check - should be ~N(0,1):\")\n",
    "print(f\"Mean: {normalized.mean().item():.2f}, Std: {normalized.std().item():.2f}\")"
   ]
  },
  {
   "cell_type": "code",
   "execution_count": 93,
   "metadata": {},
   "outputs": [
    {
     "name": "stdout",
     "output_type": "stream",
     "text": [
      "torch.Size([14, 11])\n"
     ]
    }
   ],
   "source": [
    "x, _ = dataset[0]\n",
    "print(x.shape)  # should be (sequence_length, num_features)\n"
   ]
  }
 ],
 "metadata": {
  "kernelspec": {
   "display_name": "Python 3",
   "language": "python",
   "name": "python3"
  },
  "language_info": {
   "codemirror_mode": {
    "name": "ipython",
    "version": 3
   },
   "file_extension": ".py",
   "mimetype": "text/x-python",
   "name": "python",
   "nbconvert_exporter": "python",
   "pygments_lexer": "ipython3",
   "version": "3.11.5"
  }
 },
 "nbformat": 4,
 "nbformat_minor": 2
}
