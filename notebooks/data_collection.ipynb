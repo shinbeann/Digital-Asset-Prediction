{
 "cells": [
  {
   "cell_type": "markdown",
   "metadata": {},
   "source": [
    "# Data Collection"
   ]
  },
  {
   "cell_type": "markdown",
   "metadata": {},
   "source": [
    "## 0. Setup"
   ]
  },
  {
   "cell_type": "code",
   "execution_count": 1,
   "metadata": {},
   "outputs": [],
   "source": [
    "# Automatic reloading\n",
    "%load_ext autoreload\n",
    "%autoreload 2"
   ]
  },
  {
   "cell_type": "code",
   "execution_count": 2,
   "metadata": {},
   "outputs": [],
   "source": [
    "####################\n",
    "# Required Modules #\n",
    "####################\n",
    "\n",
    "# Generic/Built-in\n",
    "import sys\n",
    "import os\n",
    "\n",
    "# Libs\n",
    "import pandas as pd"
   ]
  },
  {
   "cell_type": "code",
   "execution_count": 3,
   "metadata": {},
   "outputs": [
    {
     "data": {
      "text/plain": [
       "'c:\\\\Users\\\\Ryan Lee\\\\Desktop\\\\50.038 Computational Data Science\\\\Digital-Asset-Prediction'"
      ]
     },
     "execution_count": 3,
     "metadata": {},
     "output_type": "execute_result"
    }
   ],
   "source": [
    "# Get the project directory \n",
    "current_dir = os.path.abspath('') # Current '\\notebooks' directory\n",
    "project_dir = os.path.abspath(os.path.join(current_dir, '..')) # Move up one level to project root directory\n",
    "\n",
    "# Add the project directory to sys.path\n",
    "sys.path.append(project_dir)\n",
    "\n",
    "# Move up to project directory\n",
    "os.chdir(project_dir)\n",
    "os.getcwd()"
   ]
  },
  {
   "cell_type": "code",
   "execution_count": 4,
   "metadata": {},
   "outputs": [
    {
     "data": {
      "text/plain": [
       "True"
      ]
     },
     "execution_count": 4,
     "metadata": {},
     "output_type": "execute_result"
    }
   ],
   "source": [
    "from dotenv import load_dotenv\n",
    "\n",
    "# Load in environment variables from `.env` file.\n",
    "load_dotenv()"
   ]
  },
  {
   "cell_type": "markdown",
   "metadata": {},
   "source": [
    "## 1. FRED Data\n",
    "The **Federal Reserve Economic Data (FRED)** is an online database maintained by the research department at the Federal Reserve Bank of St. Louis. It provides a wide range of economic time series data.\n",
    "\n",
    "- The [FRED API](https://fred.stlouisfed.org/docs/api/fred/) will be used to retrieve the necessary datasets. An API key can be requested for free. Ensure that your API key is set by specifying it in the `FRED_API_KEY` environment variable.\n",
    "- Alternatively, the datasets can be downloaded directly from the website itself without making an account."
   ]
  },
  {
   "cell_type": "code",
   "execution_count": 8,
   "metadata": {},
   "outputs": [],
   "source": [
    "from src.data_collection.data_scraper import fetch_data_from_fred"
   ]
  },
  {
   "cell_type": "markdown",
   "metadata": {},
   "source": [
    "### 1.1. 10-Year Treasury Constant Maturity Minus 2-Year Treasury Constant Maturity\n",
    "The **10-Year Treasury Constant Maturity Minus 2-Year Treasury Constant Maturity** spread measures the difference between long-term (10-year) and short-term (2-year) U.S. Treasury bond yields. A positive spread indicates a normal yield curve, suggesting confidence in economic growth, while a negative spread (inverted curve) may signal market concerns about an economic slowdown or impending recession.\n",
    "\n",
    "As a macro-economic indicator, this spread can be used in crypto price prediction by reflecting investor sentiment and economic expectations. A widening spread may indicate optimism, which could drive higher demand for risk assets like cryptocurrencies, while an inverted spread could signal economic uncertainty, potentially leading to market volatility and lower crypto prices.\n",
    "\n",
    "**Citation**:\n",
    "\n",
    "Federal Reserve Bank of St. Louis, 10-Year Treasury Constant Maturity Minus 2-Year Treasury Constant Maturity [T10Y2Y], retrieved from FRED, Federal Reserve Bank of St. Louis; https://fred.stlouisfed.org/series/T10Y2Y, March 25, 2025. \n"
   ]
  },
  {
   "cell_type": "code",
   "execution_count": null,
   "metadata": {},
   "outputs": [
    {
     "name": "stdout",
     "output_type": "stream",
     "text": [
      "Data saved to data/raw/treasury_constant_maturity_spread.csv\n"
     ]
    },
    {
     "data": {
      "text/html": [
       "<div>\n",
       "<style scoped>\n",
       "    .dataframe tbody tr th:only-of-type {\n",
       "        vertical-align: middle;\n",
       "    }\n",
       "\n",
       "    .dataframe tbody tr th {\n",
       "        vertical-align: top;\n",
       "    }\n",
       "\n",
       "    .dataframe thead th {\n",
       "        text-align: right;\n",
       "    }\n",
       "</style>\n",
       "<table border=\"1\" class=\"dataframe\">\n",
       "  <thead>\n",
       "    <tr style=\"text-align: right;\">\n",
       "      <th></th>\n",
       "      <th>realtime_start</th>\n",
       "      <th>realtime_end</th>\n",
       "      <th>date</th>\n",
       "      <th>value</th>\n",
       "    </tr>\n",
       "  </thead>\n",
       "  <tbody>\n",
       "    <tr>\n",
       "      <th>0</th>\n",
       "      <td>2025-03-25</td>\n",
       "      <td>2025-03-25</td>\n",
       "      <td>2022-03-24</td>\n",
       "      <td>0.21</td>\n",
       "    </tr>\n",
       "    <tr>\n",
       "      <th>1</th>\n",
       "      <td>2025-03-25</td>\n",
       "      <td>2025-03-25</td>\n",
       "      <td>2022-03-25</td>\n",
       "      <td>0.18</td>\n",
       "    </tr>\n",
       "    <tr>\n",
       "      <th>2</th>\n",
       "      <td>2025-03-25</td>\n",
       "      <td>2025-03-25</td>\n",
       "      <td>2022-03-28</td>\n",
       "      <td>0.11</td>\n",
       "    </tr>\n",
       "    <tr>\n",
       "      <th>3</th>\n",
       "      <td>2025-03-25</td>\n",
       "      <td>2025-03-25</td>\n",
       "      <td>2022-03-29</td>\n",
       "      <td>0.06</td>\n",
       "    </tr>\n",
       "    <tr>\n",
       "      <th>4</th>\n",
       "      <td>2025-03-25</td>\n",
       "      <td>2025-03-25</td>\n",
       "      <td>2022-03-30</td>\n",
       "      <td>0.04</td>\n",
       "    </tr>\n",
       "  </tbody>\n",
       "</table>\n",
       "</div>"
      ],
      "text/plain": [
       "  realtime_start realtime_end       date  value\n",
       "0     2025-03-25   2025-03-25 2022-03-24   0.21\n",
       "1     2025-03-25   2025-03-25 2022-03-25   0.18\n",
       "2     2025-03-25   2025-03-25 2022-03-28   0.11\n",
       "3     2025-03-25   2025-03-25 2022-03-29   0.06\n",
       "4     2025-03-25   2025-03-25 2022-03-30   0.04"
      ]
     },
     "execution_count": 7,
     "metadata": {},
     "output_type": "execute_result"
    }
   ],
   "source": [
    "output_file = \"data/raw/treasury_constant_maturity_spread.csv\"\n",
    "\n",
    "df_t10y2y = fetch_data_from_fred(\n",
    "    series_id=\"T10Y2Y\",\n",
    "    start_date=\"2022-03-24\",\n",
    "    end_date=\"2025-03-24\",\n",
    "    output_filename=output_file\n",
    ")\n",
    "\n",
    "df_t10y2y.head()"
   ]
  },
  {
   "cell_type": "markdown",
   "metadata": {},
   "source": [
    "### 1.2. S&P 500\n",
    "The observations for the S&P 500 represent the daily index value at market close. The market typically closes at 4 PM ET, except for holidays when it sometimes closes early.\n",
    "\n",
    "The Federal Reserve Bank of St. Louis and S&P Dow Jones Indices LLC have reached a new agreement on the use of Standard & Poors and Dow Jones Averages series in FRED. FRED and its associated services will include 10 years of daily history for Standard & Poors and Dow Jones Averages series.\n",
    "\n",
    "The S&P 500 is regarded as a gauge of the large cap U.S. equities market. The index includes 500 leading companies in leading industries of the U.S. economy, which are publicly held on either the NYSE or NASDAQ, and covers 75% of U.S. equities. Since this is a price index and not a total return index, the S&P 500 index here does not contain dividends. \n",
    "\n",
    "**Citation**:\n",
    "\n",
    "S&P Dow Jones Indices LLC, S&P 500 [SP500], retrieved from FRED, Federal Reserve Bank of St. Louis; https://fred.stlouisfed.org/series/SP500, March 27, 2025. "
   ]
  },
  {
   "cell_type": "code",
   "execution_count": 9,
   "metadata": {},
   "outputs": [
    {
     "name": "stdout",
     "output_type": "stream",
     "text": [
      "Data saved to data/raw/sp500.csv\n"
     ]
    },
    {
     "data": {
      "text/html": [
       "<div>\n",
       "<style scoped>\n",
       "    .dataframe tbody tr th:only-of-type {\n",
       "        vertical-align: middle;\n",
       "    }\n",
       "\n",
       "    .dataframe tbody tr th {\n",
       "        vertical-align: top;\n",
       "    }\n",
       "\n",
       "    .dataframe thead th {\n",
       "        text-align: right;\n",
       "    }\n",
       "</style>\n",
       "<table border=\"1\" class=\"dataframe\">\n",
       "  <thead>\n",
       "    <tr style=\"text-align: right;\">\n",
       "      <th></th>\n",
       "      <th>realtime_start</th>\n",
       "      <th>realtime_end</th>\n",
       "      <th>date</th>\n",
       "      <th>value</th>\n",
       "    </tr>\n",
       "  </thead>\n",
       "  <tbody>\n",
       "    <tr>\n",
       "      <th>0</th>\n",
       "      <td>2025-03-27</td>\n",
       "      <td>2025-03-27</td>\n",
       "      <td>2022-03-24</td>\n",
       "      <td>4520.16</td>\n",
       "    </tr>\n",
       "    <tr>\n",
       "      <th>1</th>\n",
       "      <td>2025-03-27</td>\n",
       "      <td>2025-03-27</td>\n",
       "      <td>2022-03-25</td>\n",
       "      <td>4543.06</td>\n",
       "    </tr>\n",
       "    <tr>\n",
       "      <th>2</th>\n",
       "      <td>2025-03-27</td>\n",
       "      <td>2025-03-27</td>\n",
       "      <td>2022-03-28</td>\n",
       "      <td>4575.52</td>\n",
       "    </tr>\n",
       "    <tr>\n",
       "      <th>3</th>\n",
       "      <td>2025-03-27</td>\n",
       "      <td>2025-03-27</td>\n",
       "      <td>2022-03-29</td>\n",
       "      <td>4631.60</td>\n",
       "    </tr>\n",
       "    <tr>\n",
       "      <th>4</th>\n",
       "      <td>2025-03-27</td>\n",
       "      <td>2025-03-27</td>\n",
       "      <td>2022-03-30</td>\n",
       "      <td>4602.45</td>\n",
       "    </tr>\n",
       "  </tbody>\n",
       "</table>\n",
       "</div>"
      ],
      "text/plain": [
       "  realtime_start realtime_end       date    value\n",
       "0     2025-03-27   2025-03-27 2022-03-24  4520.16\n",
       "1     2025-03-27   2025-03-27 2022-03-25  4543.06\n",
       "2     2025-03-27   2025-03-27 2022-03-28  4575.52\n",
       "3     2025-03-27   2025-03-27 2022-03-29  4631.60\n",
       "4     2025-03-27   2025-03-27 2022-03-30  4602.45"
      ]
     },
     "execution_count": 9,
     "metadata": {},
     "output_type": "execute_result"
    }
   ],
   "source": [
    "output_file = \"data/raw/sp500.csv\"\n",
    "\n",
    "df_sp500 = fetch_data_from_fred(\n",
    "    series_id=\"SP500\",\n",
    "    start_date=\"2022-03-24\",\n",
    "    end_date=\"2025-03-24\",\n",
    "    output_filename=output_file\n",
    ")\n",
    "\n",
    "df_sp500.head()"
   ]
  },
  {
   "cell_type": "markdown",
   "metadata": {},
   "source": [
    "## 2. CoinGecko Data\n",
    "CoinGecko is a leading independent cryptocurrency data aggregator that provides comprehensive information on over 17,000 crypto assets and 1,200+ exchanges.\n",
    "- For the data we are scraping, we do **not** need any API key."
   ]
  },
  {
   "cell_type": "code",
   "execution_count": 6,
   "metadata": {},
   "outputs": [
    {
     "name": "stdout",
     "output_type": "stream",
     "text": [
      "Fetching top 2 cryptocurrency assets by market cap...\n",
      "Found 2 assets\n",
      "[1/2] Fetching daily data for bitcoin...\n",
      "✅ Successfully fetched 366 days of data for bitcoin\n",
      "Waiting 6 seconds to avoid API rate limits...\n",
      "[2/2] Fetching daily data for ethereum...\n",
      "✅ Successfully fetched 366 days of data for ethereum\n",
      "Waiting 3 seconds to avoid API rate limits...\n",
      "\n",
      "Combining data from all assets...\n",
      "\n",
      "✅ Daily data collection complete! Data saved as 'data/raw/top_crypto_daily_data.csv'.\n",
      "\n",
      "Summary:\n",
      "- Successfully collected data for 2 cryptocurrencies\n",
      "- Total records: 732\n",
      "- Date range: 2024-03-28 to 2025-03-27\n"
     ]
    }
   ],
   "source": [
    "from src.data_collection.data_scraper import fetch_top_crypto_data_from_coingecko\n",
    "\n",
    "df_top_crypto_data = fetch_top_crypto_data_from_coingecko(\n",
    "    limit=2,\n",
    "    vs_currency=\"usd\",\n",
    "    days=365,\n",
    "    output_filename=\"data/raw/top_crypto_daily_data.csv\"\n",
    ")"
   ]
  }
 ],
 "metadata": {
  "kernelspec": {
   "display_name": "term6",
   "language": "python",
   "name": "python3"
  },
  "language_info": {
   "codemirror_mode": {
    "name": "ipython",
    "version": 3
   },
   "file_extension": ".py",
   "mimetype": "text/x-python",
   "name": "python",
   "nbconvert_exporter": "python",
   "pygments_lexer": "ipython3",
   "version": "3.12.8"
  }
 },
 "nbformat": 4,
 "nbformat_minor": 2
}
